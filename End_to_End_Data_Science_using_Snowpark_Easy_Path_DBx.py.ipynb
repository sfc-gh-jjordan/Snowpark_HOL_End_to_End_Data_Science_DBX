{
 "cells": [
  {
   "cell_type": "markdown",
   "metadata": {
    "application/vnd.databricks.v1+cell": {
     "cellMetadata": {
      "byteLimit": 2048000,
      "rowLimit": 10000
     },
     "inputWidgets": {},
     "nuid": "ba51407f-b411-4276-805e-4d11623985f6",
     "showTitle": false,
     "title": ""
    }
   },
   "source": [
    "# Overview: Flow of Snowpark ML API / MLOps Hands-on-Lab\n",
    "\n",
    "![End-to-end_demo.png](files/shared_uploads/joe.jordan@snowflake.com/assets/End_to_end_demo.png)\n",
    "\n",
    "\n"
   ]
  },
  {
   "cell_type": "markdown",
   "metadata": {
    "application/vnd.databricks.v1+cell": {
     "cellMetadata": {
      "byteLimit": 2048000,
      "rowLimit": 10000
     },
     "inputWidgets": {},
     "nuid": "ef1a5dc4-de78-43da-8fc3-3f5604de68be",
     "showTitle": false,
     "title": ""
    }
   },
   "source": [
    "## Background Information\n",
    "\n",
    "Tasty Bytes is one of the largest food truck networks in the world with localized menu options spread across 30 major cities in 15 countries. **Tasty Bytes is aiming to achieve 25% YoY sales growth over 5 years.**\n",
    "\n",
    "As Tasty Bytes Data Scientists, we have been asked to support this goal by helping our food truck drivers more intelligently pick where to park for shifts. \n",
    "\n",
    "**We want to direct our trucks to locations that are expected to have the highest sales on a given shift.\n",
    "This will maximize our daily revenue across our fleet of trucks.**\n",
    "\n",
    "To provide this insight, we will use historical shift sales at each location to build a model. This data has been made available to us in Snowflake.Our model will provide the predicted sales at each location for the upcoming shift.\n",
    "\n"
   ]
  },
  {
   "cell_type": "markdown",
   "metadata": {
    "application/vnd.databricks.v1+cell": {
     "cellMetadata": {
      "byteLimit": 2048000,
      "rowLimit": 10000
     },
     "inputWidgets": {},
     "nuid": "021afa2b-0907-4fca-a132-a9741b45a064",
     "showTitle": false,
     "title": ""
    }
   },
   "source": [
    "![problem_overview.png](files/shared_uploads/joe.jordan@snowflake.com/assets/problem_overview.png)\n",
    "\n",
    "\n",
    "\n",
    "\n",
    "\n"
   ]
  },
  {
   "cell_type": "markdown",
   "metadata": {
    "application/vnd.databricks.v1+cell": {
     "cellMetadata": {
      "byteLimit": 2048000,
      "rowLimit": 10000
     },
     "inputWidgets": {},
     "nuid": "a0d92b69-996e-4331-b783-8d1d0c5e74fb",
     "showTitle": false,
     "title": ""
    }
   },
   "source": [
    "![snowpark_101.png](files/shared_uploads/joe.jordan@snowflake.com/assets/snowpark_101.png)\n",
    "\n",
    "\n",
    "\n"
   ]
  },
  {
   "cell_type": "markdown",
   "metadata": {
    "application/vnd.databricks.v1+cell": {
     "cellMetadata": {
      "byteLimit": 2048000,
      "rowLimit": 10000
     },
     "inputWidgets": {},
     "nuid": "4d7a7d07-0d6c-46fe-a5a6-00dda2e1944f",
     "showTitle": false,
     "title": ""
    }
   },
   "source": [
    "## Import Packages\n",
    "\n",
    "Just like the Python packages we are importing, we will import the Snowpark modules that we need.\n",
    "**Value**: Snowflake modules provide efficient ways to work with data and functions in Snowflake.\n",
    "\n"
   ]
  },
  {
   "cell_type": "code",
   "execution_count": 0,
   "metadata": {
    "application/vnd.databricks.v1+cell": {
     "cellMetadata": {
      "byteLimit": 2048000,
      "rowLimit": 10000
     },
     "inputWidgets": {},
     "nuid": "a1289afc-9a6f-49c2-9e55-6f2355c02ede",
     "showTitle": false,
     "title": ""
    }
   },
   "outputs": [
    {
     "output_type": "stream",
     "name": "stdout",
     "output_type": "stream",
     "text": [
      "\u001B[43mNote: you may need to restart the kernel using dbutils.library.restartPython() to use updated packages.\u001B[0m\nRequirement already satisfied: snowflake-snowpark-python in /local_disk0/.ephemeral_nfs/cluster_libraries/python/lib/python3.10/site-packages (from -r /Workspace/assets/requirements.txt (line 1)) (1.17.0)\nRequirement already satisfied: snowflake-ml-python==1.3.1 in /local_disk0/.ephemeral_nfs/cluster_libraries/python/lib/python3.10/site-packages (from -r /Workspace/assets/requirements.txt (line 2)) (1.3.1)\nRequirement already satisfied: pandas==1.5.3 in /local_disk0/.ephemeral_nfs/cluster_libraries/python/lib/python3.10/site-packages (from -r /Workspace/assets/requirements.txt (line 3)) (1.5.3)\nRequirement already satisfied: numpy==1.26.3 in /local_disk0/.ephemeral_nfs/cluster_libraries/python/lib/python3.10/site-packages (from -r /Workspace/assets/requirements.txt (line 4)) (1.26.3)\nRequirement already satisfied: scikit-learn==1.2.2 in /local_disk0/.ephemeral_nfs/cluster_libraries/python/lib/python3.10/site-packages (from -r /Workspace/assets/requirements.txt (line 5)) (1.2.2)\nRequirement already satisfied: xgboost==1.7.3 in /local_disk0/.ephemeral_nfs/cluster_libraries/python/lib/python3.10/site-packages (from -r /Workspace/assets/requirements.txt (line 6)) (1.7.3)\nRequirement already satisfied: seaborn==0.12.2 in /local_disk0/.ephemeral_nfs/cluster_libraries/python/lib/python3.10/site-packages (from -r /Workspace/assets/requirements.txt (line 7)) (0.12.2)\nRequirement already satisfied: matplotlib==3.8.0 in /local_disk0/.ephemeral_nfs/cluster_libraries/python/lib/python3.10/site-packages (from -r /Workspace/assets/requirements.txt (line 8)) (3.8.0)\nRequirement already satisfied: plotly in /databricks/python3/lib/python3.10/site-packages (from -r /Workspace/assets/requirements.txt (line 9)) (5.9.0)\nRequirement already satisfied: cloudpickle==2.2.1 in /local_disk0/.ephemeral_nfs/cluster_libraries/python/lib/python3.10/site-packages (from -r /Workspace/assets/requirements.txt (line 10)) (2.2.1)\nRequirement already satisfied: joblib==1.2.0 in /databricks/python3/lib/python3.10/site-packages (from -r /Workspace/assets/requirements.txt (line 11)) (1.2.0)\nRequirement already satisfied: cachetools in /local_disk0/.ephemeral_nfs/cluster_libraries/python/lib/python3.10/site-packages (from -r /Workspace/assets/requirements.txt (line 12)) (5.3.3)\nRequirement already satisfied: jupyter==1.0.0 in /local_disk0/.ephemeral_nfs/cluster_libraries/python/lib/python3.10/site-packages (from -r /Workspace/assets/requirements.txt (line 13)) (1.0.0)\nRequirement already satisfied: imbalanced-learn==0.10.1 in /local_disk0/.ephemeral_nfs/cluster_libraries/python/lib/python3.10/site-packages (from -r /Workspace/assets/requirements.txt (line 14)) (0.10.1)\nRequirement already satisfied: scipy<2,>=1.9 in /local_disk0/.ephemeral_nfs/envs/pythonEnv-50d86ff2-4ec6-440b-a7d2-39588a7b6dbd/lib/python3.10/site-packages (from snowflake-ml-python==1.3.1->-r /Workspace/assets/requirements.txt (line 2)) (1.13.1)\nRequirement already satisfied: pytimeparse<2,>=1.1.8 in /local_disk0/.ephemeral_nfs/cluster_libraries/python/lib/python3.10/site-packages (from snowflake-ml-python==1.3.1->-r /Workspace/assets/requirements.txt (line 2)) (1.1.8)\nRequirement already satisfied: absl-py<2,>=0.15 in /local_disk0/.ephemeral_nfs/cluster_libraries/python/lib/python3.10/site-packages (from snowflake-ml-python==1.3.1->-r /Workspace/assets/requirements.txt (line 2)) (1.4.0)\nRequirement already satisfied: snowflake-connector-python[pandas]<4,>=3.5.0 in /local_disk0/.ephemeral_nfs/cluster_libraries/python/lib/python3.10/site-packages (from snowflake-ml-python==1.3.1->-r /Workspace/assets/requirements.txt (line 2)) (3.10.1)\nRequirement already satisfied: fsspec[http]<2024,>=2022.11 in /local_disk0/.ephemeral_nfs/cluster_libraries/python/lib/python3.10/site-packages (from snowflake-ml-python==1.3.1->-r /Workspace/assets/requirements.txt (line 2)) (2023.12.2)\nRequirement already satisfied: anyio<4,>=3.5.0 in /local_disk0/.ephemeral_nfs/cluster_libraries/python/lib/python3.10/site-packages (from snowflake-ml-python==1.3.1->-r /Workspace/assets/requirements.txt (line 2)) (3.7.1)\nRequirement already satisfied: packaging<24,>=20.9 in /databricks/python3/lib/python3.10/site-packages (from snowflake-ml-python==1.3.1->-r /Workspace/assets/requirements.txt (line 2)) (21.3)\nRequirement already satisfied: pyyaml<7,>=6.0 in /local_disk0/.ephemeral_nfs/cluster_libraries/python/lib/python3.10/site-packages (from snowflake-ml-python==1.3.1->-r /Workspace/assets/requirements.txt (line 2)) (6.0.1)\nRequirement already satisfied: pyarrow in /databricks/python3/lib/python3.10/site-packages (from snowflake-ml-python==1.3.1->-r /Workspace/assets/requirements.txt (line 2)) (8.0.0)\nRequirement already satisfied: s3fs<2024,>=2022.11 in /local_disk0/.ephemeral_nfs/cluster_libraries/python/lib/python3.10/site-packages (from snowflake-ml-python==1.3.1->-r /Workspace/assets/requirements.txt (line 2)) (2023.12.2)\nRequirement already satisfied: retrying<2,>=1.3.3 in /local_disk0/.ephemeral_nfs/cluster_libraries/python/lib/python3.10/site-packages (from snowflake-ml-python==1.3.1->-r /Workspace/assets/requirements.txt (line 2)) (1.3.4)\nRequirement already satisfied: typing-extensions<5,>=4.1.0 in /databricks/python3/lib/python3.10/site-packages (from snowflake-ml-python==1.3.1->-r /Workspace/assets/requirements.txt (line 2)) (4.3.0)\nRequirement already satisfied: importlib-resources<7,>=6.1.1 in /local_disk0/.ephemeral_nfs/cluster_libraries/python/lib/python3.10/site-packages (from snowflake-ml-python==1.3.1->-r /Workspace/assets/requirements.txt (line 2)) (6.4.0)\nRequirement already satisfied: sqlparse<1,>=0.4 in /local_disk0/.ephemeral_nfs/cluster_libraries/python/lib/python3.10/site-packages (from snowflake-ml-python==1.3.1->-r /Workspace/assets/requirements.txt (line 2)) (0.5.0)\nRequirement already satisfied: python-dateutil>=2.8.1 in /databricks/python3/lib/python3.10/site-packages (from pandas==1.5.3->-r /Workspace/assets/requirements.txt (line 3)) (2.8.2)\nRequirement already satisfied: pytz>=2020.1 in /databricks/python3/lib/python3.10/site-packages (from pandas==1.5.3->-r /Workspace/assets/requirements.txt (line 3)) (2022.1)\nRequirement already satisfied: threadpoolctl>=2.0.0 in /databricks/python3/lib/python3.10/site-packages (from scikit-learn==1.2.2->-r /Workspace/assets/requirements.txt (line 5)) (2.2.0)\nRequirement already satisfied: fonttools>=4.22.0 in /databricks/python3/lib/python3.10/site-packages (from matplotlib==3.8.0->-r /Workspace/assets/requirements.txt (line 8)) (4.25.0)\nRequirement already satisfied: contourpy>=1.0.1 in /local_disk0/.ephemeral_nfs/cluster_libraries/python/lib/python3.10/site-packages (from matplotlib==3.8.0->-r /Workspace/assets/requirements.txt (line 8)) (1.2.1)\nRequirement already satisfied: cycler>=0.10 in /databricks/python3/lib/python3.10/site-packages (from matplotlib==3.8.0->-r /Workspace/assets/requirements.txt (line 8)) (0.11.0)\nRequirement already satisfied: pyparsing>=2.3.1 in /databricks/python3/lib/python3.10/site-packages (from matplotlib==3.8.0->-r /Workspace/assets/requirements.txt (line 8)) (3.0.9)\nRequirement already satisfied: pillow>=6.2.0 in /databricks/python3/lib/python3.10/site-packages (from matplotlib==3.8.0->-r /Workspace/assets/requirements.txt (line 8)) (9.2.0)\nRequirement already satisfied: kiwisolver>=1.0.1 in /databricks/python3/lib/python3.10/site-packages (from matplotlib==3.8.0->-r /Workspace/assets/requirements.txt (line 8)) (1.4.2)\nRequirement already satisfied: jupyter-console in /local_disk0/.ephemeral_nfs/cluster_libraries/python/lib/python3.10/site-packages (from jupyter==1.0.0->-r /Workspace/assets/requirements.txt (line 13)) (6.6.3)\nRequirement already satisfied: notebook in /databricks/python3/lib/python3.10/site-packages (from jupyter==1.0.0->-r /Workspace/assets/requirements.txt (line 13)) (6.4.12)\nRequirement already satisfied: ipykernel in /databricks/python3/lib/python3.10/site-packages (from jupyter==1.0.0->-r /Workspace/assets/requirements.txt (line 13)) (6.17.1)\nRequirement already satisfied: ipywidgets in /databricks/python3/lib/python3.10/site-packages (from jupyter==1.0.0->-r /Workspace/assets/requirements.txt (line 13)) (7.7.2)\nRequirement already satisfied: qtconsole in /local_disk0/.ephemeral_nfs/cluster_libraries/python/lib/python3.10/site-packages (from jupyter==1.0.0->-r /Workspace/assets/requirements.txt (line 13)) (5.5.2)\nRequirement already satisfied: nbconvert in /databricks/python3/lib/python3.10/site-packages (from jupyter==1.0.0->-r /Workspace/assets/requirements.txt (line 13)) (6.4.4)\nRequirement already satisfied: wheel in /databricks/python3/lib/python3.10/site-packages (from snowflake-snowpark-python->-r /Workspace/assets/requirements.txt (line 1)) (0.37.1)\nRequirement already satisfied: setuptools>=40.6.0 in /databricks/python3/lib/python3.10/site-packages (from snowflake-snowpark-python->-r /Workspace/assets/requirements.txt (line 1)) (63.4.1)\nRequirement already satisfied: tenacity>=6.2.0 in /databricks/python3/lib/python3.10/site-packages (from plotly->-r /Workspace/assets/requirements.txt (line 9)) (8.1.0)\nRequirement already satisfied: sniffio>=1.1 in /local_disk0/.ephemeral_nfs/cluster_libraries/python/lib/python3.10/site-packages (from anyio<4,>=3.5.0->snowflake-ml-python==1.3.1->-r /Workspace/assets/requirements.txt (line 2)) (1.3.1)\nRequirement already satisfied: idna>=2.8 in /databricks/python3/lib/python3.10/site-packages (from anyio<4,>=3.5.0->snowflake-ml-python==1.3.1->-r /Workspace/assets/requirements.txt (line 2)) (3.3)\nRequirement already satisfied: exceptiongroup in /local_disk0/.ephemeral_nfs/cluster_libraries/python/lib/python3.10/site-packages (from anyio<4,>=3.5.0->snowflake-ml-python==1.3.1->-r /Workspace/assets/requirements.txt (line 2)) (1.2.1)\nRequirement already satisfied: aiohttp!=4.0.0a0,!=4.0.0a1 in /local_disk0/.ephemeral_nfs/cluster_libraries/python/lib/python3.10/site-packages (from fsspec[http]<2024,>=2022.11->snowflake-ml-python==1.3.1->-r /Workspace/assets/requirements.txt (line 2)) (3.9.5)\nRequirement already satisfied: requests in /databricks/python3/lib/python3.10/site-packages (from fsspec[http]<2024,>=2022.11->snowflake-ml-python==1.3.1->-r /Workspace/assets/requirements.txt (line 2)) (2.28.1)\nRequirement already satisfied: six>=1.5 in /usr/lib/python3/dist-packages (from python-dateutil>=2.8.1->pandas==1.5.3->-r /Workspace/assets/requirements.txt (line 3)) (1.16.0)\nRequirement already satisfied: aiobotocore<3.0.0,>=2.5.4 in /local_disk0/.ephemeral_nfs/cluster_libraries/python/lib/python3.10/site-packages (from s3fs<2024,>=2022.11->snowflake-ml-python==1.3.1->-r /Workspace/assets/requirements.txt (line 2)) (2.13.0)\nRequirement already satisfied: tomlkit in /local_disk0/.ephemeral_nfs/cluster_libraries/python/lib/python3.10/site-packages (from snowflake-connector-python[pandas]<4,>=3.5.0->snowflake-ml-python==1.3.1->-r /Workspace/assets/requirements.txt (line 2)) (0.12.5)\nRequirement already satisfied: platformdirs<5.0.0,>=2.6.0 in /local_disk0/.ephemeral_nfs/cluster_libraries/python/lib/python3.10/site-packages (from snowflake-connector-python[pandas]<4,>=3.5.0->snowflake-ml-python==1.3.1->-r /Workspace/assets/requirements.txt (line 2)) (4.2.2)\nRequirement already satisfied: certifi>=2017.4.17 in /databricks/python3/lib/python3.10/site-packages (from snowflake-connector-python[pandas]<4,>=3.5.0->snowflake-ml-python==1.3.1->-r /Workspace/assets/requirements.txt (line 2)) (2022.9.14)\nRequirement already satisfied: cffi<2.0.0,>=1.9 in /databricks/python3/lib/python3.10/site-packages (from snowflake-connector-python[pandas]<4,>=3.5.0->snowflake-ml-python==1.3.1->-r /Workspace/assets/requirements.txt (line 2)) (1.15.1)\nRequirement already satisfied: pyOpenSSL<25.0.0,>=16.2.0 in /local_disk0/.ephemeral_nfs/cluster_libraries/python/lib/python3.10/site-packages (from snowflake-connector-python[pandas]<4,>=3.5.0->snowflake-ml-python==1.3.1->-r /Workspace/assets/requirements.txt (line 2)) (24.1.0)\nRequirement already satisfied: cryptography<43.0.0,>=3.1.0 in /local_disk0/.ephemeral_nfs/cluster_libraries/python/lib/python3.10/site-packages (from snowflake-connector-python[pandas]<4,>=3.5.0->snowflake-ml-python==1.3.1->-r /Workspace/assets/requirements.txt (line 2)) (42.0.7)\nRequirement already satisfied: asn1crypto<2.0.0,>0.24.0 in /local_disk0/.ephemeral_nfs/cluster_libraries/python/lib/python3.10/site-packages (from snowflake-connector-python[pandas]<4,>=3.5.0->snowflake-ml-python==1.3.1->-r /Workspace/assets/requirements.txt (line 2)) (1.5.1)\nRequirement already satisfied: pyjwt<3.0.0 in /usr/lib/python3/dist-packages (from snowflake-connector-python[pandas]<4,>=3.5.0->snowflake-ml-python==1.3.1->-r /Workspace/assets/requirements.txt (line 2)) (2.3.0)\nRequirement already satisfied: filelock<4,>=3.5 in /usr/local/lib/python3.10/dist-packages (from snowflake-connector-python[pandas]<4,>=3.5.0->snowflake-ml-python==1.3.1->-r /Workspace/assets/requirements.txt (line 2)) (3.12.2)\nRequirement already satisfied: sortedcontainers>=2.4.0 in /local_disk0/.ephemeral_nfs/cluster_libraries/python/lib/python3.10/site-packages (from snowflake-connector-python[pandas]<4,>=3.5.0->snowflake-ml-python==1.3.1->-r /Workspace/assets/requirements.txt (line 2)) (2.4.0)\nRequirement already satisfied: charset-normalizer<4,>=2 in /databricks/python3/lib/python3.10/site-packages (from snowflake-connector-python[pandas]<4,>=3.5.0->snowflake-ml-python==1.3.1->-r /Workspace/assets/requirements.txt (line 2)) (2.0.4)\nRequirement already satisfied: debugpy>=1.0 in /databricks/python3/lib/python3.10/site-packages (from ipykernel->jupyter==1.0.0->-r /Workspace/assets/requirements.txt (line 13)) (1.6.0)\nRequirement already satisfied: traitlets>=5.1.0 in /local_disk0/.ephemeral_nfs/cluster_libraries/python/lib/python3.10/site-packages (from ipykernel->jupyter==1.0.0->-r /Workspace/assets/requirements.txt (line 13)) (5.14.3)\nRequirement already satisfied: jupyter-client>=6.1.12 in /databricks/python3/lib/python3.10/site-packages (from ipykernel->jupyter==1.0.0->-r /Workspace/assets/requirements.txt (line 13)) (7.3.4)\nRequirement already satisfied: nest-asyncio in /databricks/python3/lib/python3.10/site-packages (from ipykernel->jupyter==1.0.0->-r /Workspace/assets/requirements.txt (line 13)) (1.5.5)\nRequirement already satisfied: ipython>=7.23.1 in /databricks/python3/lib/python3.10/site-packages (from ipykernel->jupyter==1.0.0->-r /Workspace/assets/requirements.txt (line 13)) (8.10.0)\nRequirement already satisfied: tornado>=6.1 in /databricks/python3/lib/python3.10/site-packages (from ipykernel->jupyter==1.0.0->-r /Workspace/assets/requirements.txt (line 13)) (6.1)\nRequirement already satisfied: psutil in /databricks/python3/lib/python3.10/site-packages (from ipykernel->jupyter==1.0.0->-r /Workspace/assets/requirements.txt (line 13)) (5.9.0)\nRequirement already satisfied: pyzmq>=17 in /databricks/python3/lib/python3.10/site-packages (from ipykernel->jupyter==1.0.0->-r /Workspace/assets/requirements.txt (line 13)) (23.2.0)\nRequirement already satisfied: matplotlib-inline>=0.1 in /databricks/python3/lib/python3.10/site-packages (from ipykernel->jupyter==1.0.0->-r /Workspace/assets/requirements.txt (line 13)) (0.1.6)\nRequirement already satisfied: jupyterlab-widgets<3,>=1.0.0 in /databricks/python3/lib/python3.10/site-packages (from ipywidgets->jupyter==1.0.0->-r /Workspace/assets/requirements.txt (line 13)) (1.0.0)\nRequirement already satisfied: widgetsnbextension~=3.6.0 in /databricks/python3/lib/python3.10/site-packages (from ipywidgets->jupyter==1.0.0->-r /Workspace/assets/requirements.txt (line 13)) (3.6.1)\nRequirement already satisfied: ipython-genutils~=0.2.0 in /databricks/python3/lib/python3.10/site-packages (from ipywidgets->jupyter==1.0.0->-r /Workspace/assets/requirements.txt (line 13)) (0.2.0)\nRequirement already satisfied: pygments in /local_disk0/.ephemeral_nfs/cluster_libraries/python/lib/python3.10/site-packages (from jupyter-console->jupyter==1.0.0->-r /Workspace/assets/requirements.txt (line 13)) (2.18.0)\nRequirement already satisfied: jupyter-core!=5.0.*,>=4.12 in /local_disk0/.ephemeral_nfs/cluster_libraries/python/lib/python3.10/site-packages (from jupyter-console->jupyter==1.0.0->-r /Workspace/assets/requirements.txt (line 13)) (5.7.2)\nRequirement already satisfied: prompt-toolkit>=3.0.30 in /databricks/python3/lib/python3.10/site-packages (from jupyter-console->jupyter==1.0.0->-r /Workspace/assets/requirements.txt (line 13)) (3.0.36)\nRequirement already satisfied: pandocfilters>=1.4.1 in /databricks/python3/lib/python3.10/site-packages (from nbconvert->jupyter==1.0.0->-r /Workspace/assets/requirements.txt (line 13)) (1.5.0)\nRequirement already satisfied: testpath in /databricks/python3/lib/python3.10/site-packages (from nbconvert->jupyter==1.0.0->-r /Workspace/assets/requirements.txt (line 13)) (0.6.0)\nRequirement already satisfied: beautifulsoup4 in /databricks/python3/lib/python3.10/site-packages (from nbconvert->jupyter==1.0.0->-r /Workspace/assets/requirements.txt (line 13)) (4.11.1)\nRequirement already satisfied: entrypoints>=0.2.2 in /databricks/python3/lib/python3.10/site-packages (from nbconvert->jupyter==1.0.0->-r /Workspace/assets/requirements.txt (line 13)) (0.4)\nRequirement already satisfied: bleach in /databricks/python3/lib/python3.10/site-packages (from nbconvert->jupyter==1.0.0->-r /Workspace/assets/requirements.txt (line 13)) (4.1.0)\nRequirement already satisfied: jupyterlab-pygments in /databricks/python3/lib/python3.10/site-packages (from nbconvert->jupyter==1.0.0->-r /Workspace/assets/requirements.txt (line 13)) (0.1.2)\nRequirement already satisfied: nbformat>=4.4 in /databricks/python3/lib/python3.10/site-packages (from nbconvert->jupyter==1.0.0->-r /Workspace/assets/requirements.txt (line 13)) (5.5.0)\nRequirement already satisfied: mistune<2,>=0.8.1 in /databricks/python3/lib/python3.10/site-packages (from nbconvert->jupyter==1.0.0->-r /Workspace/assets/requirements.txt (line 13)) (0.8.4)\nRequirement already satisfied: jinja2>=2.4 in /databricks/python3/lib/python3.10/site-packages (from nbconvert->jupyter==1.0.0->-r /Workspace/assets/requirements.txt (line 13)) (2.11.3)\nRequirement already satisfied: defusedxml in /databricks/python3/lib/python3.10/site-packages (from nbconvert->jupyter==1.0.0->-r /Workspace/assets/requirements.txt (line 13)) (0.7.1)\nRequirement already satisfied: nbclient<0.6.0,>=0.5.0 in /databricks/python3/lib/python3.10/site-packages (from nbconvert->jupyter==1.0.0->-r /Workspace/assets/requirements.txt (line 13)) (0.5.13)\nRequirement already satisfied: prometheus-client in /databricks/python3/lib/python3.10/site-packages (from notebook->jupyter==1.0.0->-r /Workspace/assets/requirements.txt (line 13)) (0.14.1)\nRequirement already satisfied: terminado>=0.8.3 in /databricks/python3/lib/python3.10/site-packages (from notebook->jupyter==1.0.0->-r /Workspace/assets/requirements.txt (line 13)) (0.13.1)\nRequirement already satisfied: Send2Trash>=1.8.0 in /databricks/python3/lib/python3.10/site-packages (from notebook->jupyter==1.0.0->-r /Workspace/assets/requirements.txt (line 13)) (1.8.0)\nRequirement already satisfied: argon2-cffi in /databricks/python3/lib/python3.10/site-packages (from notebook->jupyter==1.0.0->-r /Workspace/assets/requirements.txt (line 13)) (21.3.0)\nRequirement already satisfied: qtpy>=2.4.0 in /local_disk0/.ephemeral_nfs/cluster_libraries/python/lib/python3.10/site-packages (from qtconsole->jupyter==1.0.0->-r /Workspace/assets/requirements.txt (line 13)) (2.4.1)\nRequirement already satisfied: botocore<1.34.107,>=1.34.70 in /local_disk0/.ephemeral_nfs/cluster_libraries/python/lib/python3.10/site-packages (from aiobotocore<3.0.0,>=2.5.4->s3fs<2024,>=2022.11->snowflake-ml-python==1.3.1->-r /Workspace/assets/requirements.txt (line 2)) (1.34.106)\nRequirement already satisfied: wrapt<2.0.0,>=1.10.10 in /local_disk0/.ephemeral_nfs/cluster_libraries/python/lib/python3.10/site-packages (from aiobotocore<3.0.0,>=2.5.4->s3fs<2024,>=2022.11->snowflake-ml-python==1.3.1->-r /Workspace/assets/requirements.txt (line 2)) (1.16.0)\nRequirement already satisfied: aioitertools<1.0.0,>=0.5.1 in /local_disk0/.ephemeral_nfs/cluster_libraries/python/lib/python3.10/site-packages (from aiobotocore<3.0.0,>=2.5.4->s3fs<2024,>=2022.11->snowflake-ml-python==1.3.1->-r /Workspace/assets/requirements.txt (line 2)) (0.11.0)\nRequirement already satisfied: multidict<7.0,>=4.5 in /local_disk0/.ephemeral_nfs/cluster_libraries/python/lib/python3.10/site-packages (from aiohttp!=4.0.0a0,!=4.0.0a1->fsspec[http]<2024,>=2022.11->snowflake-ml-python==1.3.1->-r /Workspace/assets/requirements.txt (line 2)) (6.0.5)\nRequirement already satisfied: aiosignal>=1.1.2 in /local_disk0/.ephemeral_nfs/cluster_libraries/python/lib/python3.10/site-packages (from aiohttp!=4.0.0a0,!=4.0.0a1->fsspec[http]<2024,>=2022.11->snowflake-ml-python==1.3.1->-r /Workspace/assets/requirements.txt (line 2)) (1.3.1)\nRequirement already satisfied: frozenlist>=1.1.1 in /local_disk0/.ephemeral_nfs/cluster_libraries/python/lib/python3.10/site-packages (from aiohttp!=4.0.0a0,!=4.0.0a1->fsspec[http]<2024,>=2022.11->snowflake-ml-python==1.3.1->-r /Workspace/assets/requirements.txt (line 2)) (1.4.1)\nRequirement already satisfied: attrs>=17.3.0 in /databricks/python3/lib/python3.10/site-packages (from aiohttp!=4.0.0a0,!=4.0.0a1->fsspec[http]<2024,>=2022.11->snowflake-ml-python==1.3.1->-r /Workspace/assets/requirements.txt (line 2)) (21.4.0)\nRequirement already satisfied: yarl<2.0,>=1.0 in /local_disk0/.ephemeral_nfs/cluster_libraries/python/lib/python3.10/site-packages (from aiohttp!=4.0.0a0,!=4.0.0a1->fsspec[http]<2024,>=2022.11->snowflake-ml-python==1.3.1->-r /Workspace/assets/requirements.txt (line 2)) (1.9.4)\nRequirement already satisfied: async-timeout<5.0,>=4.0 in /local_disk0/.ephemeral_nfs/cluster_libraries/python/lib/python3.10/site-packages (from aiohttp!=4.0.0a0,!=4.0.0a1->fsspec[http]<2024,>=2022.11->snowflake-ml-python==1.3.1->-r /Workspace/assets/requirements.txt (line 2)) (4.0.3)\nRequirement already satisfied: pycparser in /databricks/python3/lib/python3.10/site-packages (from cffi<2.0.0,>=1.9->snowflake-connector-python[pandas]<4,>=3.5.0->snowflake-ml-python==1.3.1->-r /Workspace/assets/requirements.txt (line 2)) (2.21)\nRequirement already satisfied: decorator in /databricks/python3/lib/python3.10/site-packages (from ipython>=7.23.1->ipykernel->jupyter==1.0.0->-r /Workspace/assets/requirements.txt (line 13)) (5.1.1)\nRequirement already satisfied: stack-data in /databricks/python3/lib/python3.10/site-packages (from ipython>=7.23.1->ipykernel->jupyter==1.0.0->-r /Workspace/assets/requirements.txt (line 13)) (0.6.2)\nRequirement already satisfied: pexpect>4.3 in /databricks/python3/lib/python3.10/site-packages (from ipython>=7.23.1->ipykernel->jupyter==1.0.0->-r /Workspace/assets/requirements.txt (line 13)) (4.8.0)\nRequirement already satisfied: pickleshare in /databricks/python3/lib/python3.10/site-packages (from ipython>=7.23.1->ipykernel->jupyter==1.0.0->-r /Workspace/assets/requirements.txt (line 13)) (0.7.5)\nRequirement already satisfied: jedi>=0.16 in /databricks/python3/lib/python3.10/site-packages (from ipython>=7.23.1->ipykernel->jupyter==1.0.0->-r /Workspace/assets/requirements.txt (line 13)) (0.18.1)\nRequirement already satisfied: backcall in /databricks/python3/lib/python3.10/site-packages (from ipython>=7.23.1->ipykernel->jupyter==1.0.0->-r /Workspace/assets/requirements.txt (line 13)) (0.2.0)\nRequirement already satisfied: MarkupSafe>=0.23 in /databricks/python3/lib/python3.10/site-packages (from jinja2>=2.4->nbconvert->jupyter==1.0.0->-r /Workspace/assets/requirements.txt (line 13)) (2.0.1)\nRequirement already satisfied: jsonschema>=2.6 in /databricks/python3/lib/python3.10/site-packages (from nbformat>=4.4->nbconvert->jupyter==1.0.0->-r /Workspace/assets/requirements.txt (line 13)) (4.16.0)\nRequirement already satisfied: fastjsonschema in /databricks/python3/lib/python3.10/site-packages (from nbformat>=4.4->nbconvert->jupyter==1.0.0->-r /Workspace/assets/requirements.txt (line 13)) (2.18.0)\nRequirement already satisfied: wcwidth in /databricks/python3/lib/python3.10/site-packages (from prompt-toolkit>=3.0.30->jupyter-console->jupyter==1.0.0->-r /Workspace/assets/requirements.txt (line 13)) (0.2.5)\nRequirement already satisfied: urllib3<1.27,>=1.21.1 in /databricks/python3/lib/python3.10/site-packages (from requests->fsspec[http]<2024,>=2022.11->snowflake-ml-python==1.3.1->-r /Workspace/assets/requirements.txt (line 2)) (1.26.11)\nRequirement already satisfied: ptyprocess in /databricks/python3/lib/python3.10/site-packages (from terminado>=0.8.3->notebook->jupyter==1.0.0->-r /Workspace/assets/requirements.txt (line 13)) (0.7.0)\nRequirement already satisfied: argon2-cffi-bindings in /databricks/python3/lib/python3.10/site-packages (from argon2-cffi->notebook->jupyter==1.0.0->-r /Workspace/assets/requirements.txt (line 13)) (21.2.0)\nRequirement already satisfied: soupsieve>1.2 in /databricks/python3/lib/python3.10/site-packages (from beautifulsoup4->nbconvert->jupyter==1.0.0->-r /Workspace/assets/requirements.txt (line 13)) (2.3.1)\nRequirement already satisfied: webencodings in /databricks/python3/lib/python3.10/site-packages (from bleach->nbconvert->jupyter==1.0.0->-r /Workspace/assets/requirements.txt (line 13)) (0.5.1)\nRequirement already satisfied: jmespath<2.0.0,>=0.7.1 in /databricks/python3/lib/python3.10/site-packages (from botocore<1.34.107,>=1.34.70->aiobotocore<3.0.0,>=2.5.4->s3fs<2024,>=2022.11->snowflake-ml-python==1.3.1->-r /Workspace/assets/requirements.txt (line 2)) (0.10.0)\nRequirement already satisfied: parso<0.9.0,>=0.8.0 in /databricks/python3/lib/python3.10/site-packages (from jedi>=0.16->ipython>=7.23.1->ipykernel->jupyter==1.0.0->-r /Workspace/assets/requirements.txt (line 13)) (0.8.3)\nRequirement already satisfied: pyrsistent!=0.17.0,!=0.17.1,!=0.17.2,>=0.14.0 in /databricks/python3/lib/python3.10/site-packages (from jsonschema>=2.6->nbformat>=4.4->nbconvert->jupyter==1.0.0->-r /Workspace/assets/requirements.txt (line 13)) (0.18.0)\nRequirement already satisfied: asttokens>=2.1.0 in /databricks/python3/lib/python3.10/site-packages (from stack-data->ipython>=7.23.1->ipykernel->jupyter==1.0.0->-r /Workspace/assets/requirements.txt (line 13)) (2.2.1)\nRequirement already satisfied: pure-eval in /databricks/python3/lib/python3.10/site-packages (from stack-data->ipython>=7.23.1->ipykernel->jupyter==1.0.0->-r /Workspace/assets/requirements.txt (line 13)) (0.2.2)\nRequirement already satisfied: executing>=1.2.0 in /databricks/python3/lib/python3.10/site-packages (from stack-data->ipython>=7.23.1->ipykernel->jupyter==1.0.0->-r /Workspace/assets/requirements.txt (line 13)) (1.2.0)\n\u001B[43mNote: you may need to restart the kernel using dbutils.library.restartPython() to use updated packages.\u001B[0m\n"
     ]
    }
   ],
   "source": [
    "#%pip install -r /Workspace/Users/val.fontama@snowflake.com/assets/requirements.txt\n",
    "%pip install -r /Workspace/assets/requirements.txt\n",
    "dbutils.library.restartPython()"
   ]
  },
  {
   "cell_type": "code",
   "execution_count": 0,
   "metadata": {
    "application/vnd.databricks.v1+cell": {
     "cellMetadata": {
      "byteLimit": 2048000,
      "rowLimit": 10000
     },
     "inputWidgets": {},
     "nuid": "c55452b0-95da-4215-aebc-aadcdb94e4c9",
     "showTitle": false,
     "title": ""
    }
   },
   "outputs": [],
   "source": [
    "# Import Packages\n",
    "import pandas as pd\n",
    "import plotly.express as px\n",
    "import plotly.io as pio\n",
    "import json\n",
    "import sys\n",
    "import cachetools\n",
    "import getpass\n",
    "\n",
    "# Import Snowflake modules\n",
    "from snowflake.snowpark import Session\n",
    "import snowflake.snowpark.functions as F\n",
    "import snowflake.snowpark.types as T\n",
    "from snowflake.snowpark import Window"
   ]
  },
  {
   "cell_type": "markdown",
   "metadata": {
    "application/vnd.databricks.v1+cell": {
     "cellMetadata": {
      "byteLimit": 2048000,
      "rowLimit": 10000
     },
     "inputWidgets": {},
     "nuid": "b286ddef-d22e-4bb1-9ba2-87a74e25cfd8",
     "showTitle": false,
     "title": ""
    }
   },
   "source": [
    "## Connect to Snowflake\n",
    "\n",
    "Our assigned HOL Snowflake role, `<ROLEXXX>`, can access the data in your assigned `<SCHEMAXXX>` of the HOL database. We will use your assigned `<WHXXX>` warehouse that has been created as a dedicated compute for data science workloads.We will use these parameters and our Snowflake account credentials to connect to Snowflake and create a Snowpark session. \n",
    "\n",
    "**Value:** Secure and governed.\n",
    "\n"
   ]
  },
  {
   "cell_type": "markdown",
   "metadata": {
    "application/vnd.databricks.v1+cell": {
     "cellMetadata": {
      "byteLimit": 2048000,
      "rowLimit": 10000
     },
     "inputWidgets": {},
     "nuid": "eeabc8f3-4dfa-4331-a956-537c09f39b00",
     "showTitle": false,
     "title": ""
    }
   },
   "source": [
    "## Create your Snowflake data connection called \"HOL`xxx`\"\n",
    "\n",
    "If you were assigned user`xxx`,\n",
    "\n",
    "- set Name as HOL,`xxx`\n",
    "- set Account as XXX-XXX,\n",
    "- set Warehouse WH,`xxx`,,\n",
    "- set Database as HOL,\n",
    "- set Schemas as SCHEMA,`xxx`,,\n",
    "- set Username as USER,`xxx`,,\n",
    "- set Password as ,_(this is case sensitive)_\n",
    "- set User Role as HOL,`xxx`\n",
    "\n",
    "For instance, if you were assigned number 1, your data connection is:{ \"username\": \"user1\", \"password\": \"test\", \"account\": \"XXXX-XXXX\", \"database\": \"HOL\", \"role\": \"HOL1\", \"warehouse\": \"HOL1_WH\", \"schema\": \"SCHEMA1\" }\n",
    "\n"
   ]
  },
  {
   "cell_type": "markdown",
   "metadata": {
    "application/vnd.databricks.v1+cell": {
     "cellMetadata": {
      "byteLimit": 2048000,
      "rowLimit": 10000
     },
     "inputWidgets": {},
     "nuid": "5b687a2d-f5fc-4bb8-8bb9-8c999ac73070",
     "showTitle": false,
     "title": ""
    }
   },
   "source": [
    "For instance, if you were assigned number 6, your data connection is:\n",
    "\n",
    "If you were assigned user6, \n",
    "\n",
    "- set Name as HOL6\n",
    "- set Account as XXX-XXX \n",
    "- set Warehouse as WH6\n",
    "- set Database as HOL6\n",
    "- set Schemas as ANALYTICS\n",
    "- use Username & Password for Type\n",
    "- set Username as USER6\n",
    "- set Password as XXX ,_(this is case sensitive)_\n",
    "- set User Role as ROLE6\n",
    "- check Snowpark integration\n",
    "- check Allow use in writeback cells\n",
    "- select Create connection\n",
    "\n"
   ]
  },
  {
   "cell_type": "code",
   "execution_count": 0,
   "metadata": {
    "application/vnd.databricks.v1+cell": {
     "cellMetadata": {
      "byteLimit": 2048000,
      "rowLimit": 10000
     },
     "inputWidgets": {},
     "nuid": "4a563d83-22a3-4228-82de-7f6c07c0e15f",
     "showTitle": false,
     "title": ""
    }
   },
   "outputs": [],
   "source": [
    "# Get account credentials from a json file. /Workspace/assets/hol_auth.json\n",
    "with open(\"/Workspace/Users/joe.jordan@snowflake.com/hol_auth.json\") as f:\n",
    "    data = json.load(f)\n",
    "    username = data[\"username\"]\n",
    "    password = data[\"password\"]\n",
    "    account = data[\"account\"]\n",
    "    database = data[\"database\"]\n",
    "    schema = data[\"schema\"]\n",
    "    role = data[\"role\"]\n",
    "    warehouse = data[\"warehouse\"]\n",
    "\n",
    "# Specify connection parameters\n",
    "connection_parameters = {\n",
    "    \"account\": account,\n",
    "    \"user\": username,\n",
    "    \"password\": password,\n",
    "    \"role\": role,\n",
    "    \"warehouse\": warehouse,\n",
    "    \"database\": database,\n",
    "    \"schema\": schema,\n",
    "}\n",
    "\n",
    "# Create Snowpark session\n",
    "session = Session.builder.configs(connection_parameters).create()"
   ]
  },
  {
   "cell_type": "code",
   "execution_count": 0,
   "metadata": {
    "application/vnd.databricks.v1+cell": {
     "cellMetadata": {
      "byteLimit": 2048000,
      "rowLimit": 10000
     },
     "inputWidgets": {},
     "nuid": "95b0adfc-73c4-4ec9-a9bf-a815bc845fd8",
     "showTitle": false,
     "title": ""
    }
   },
   "outputs": [
    {
     "output_type": "stream",
     "name": "stdout",
     "output_type": "stream",
     "text": [
      "----------------------------------------\nWarehouse                   : WH1\nDatabase                    : HOL\nSchema                      : SCHEMA1\nSnowflake version           : 8.20.0\nSnowpark for Python version : 1.17.0\n----------------------------------------\n"
     ]
    }
   ],
   "source": [
    "# Checking environment setting and versions associated with Snowpark connection\n",
    "from snowflake.snowpark.version import VERSION\n",
    "print(\"----------------------------------------\")\n",
    "snowflake_environment = session.sql('select current_warehouse(), current_database(), current_schema(), current_version()').collect()\n",
    "snowpark_version = VERSION\n",
    "print('Warehouse                   : {}'.format(snowflake_environment[0][0]))\n",
    "print('Database                    : {}'.format(snowflake_environment[0][1]))\n",
    "print('Schema                      : {}'.format(snowflake_environment[0][2]))\n",
    "print('Snowflake version           : {}'.format(snowflake_environment[0][3]))\n",
    "print('Snowpark for Python version : {}.{}.{}'.format(snowpark_version[0],snowpark_version[1],snowpark_version[2]))\n",
    "print(\"----------------------------------------\")"
   ]
  },
  {
   "cell_type": "markdown",
   "metadata": {
    "application/vnd.databricks.v1+cell": {
     "cellMetadata": {
      "byteLimit": 2048000,
      "rowLimit": 10000
     },
     "inputWidgets": {},
     "nuid": "d6735fbd-e884-49e1-bd75-bae7e42f50aa",
     "showTitle": false,
     "title": ""
    }
   },
   "source": [
    "# Part 1 - Use Snowpark to access and prepare data for modeling\n",
    "\n",
    "![Part1.png](files/shared_uploads/joe.jordan@snowflake.com/assets/Part1.png)\n",
    "\n"
   ]
  },
  {
   "cell_type": "markdown",
   "metadata": {
    "application/vnd.databricks.v1+cell": {
     "cellMetadata": {
      "byteLimit": 2048000,
      "rowLimit": 10000
     },
     "inputWidgets": {},
     "nuid": "59efca67-cc1d-4a4d-b529-f5757eac0b4b",
     "showTitle": false,
     "title": ""
    }
   },
   "source": [
    "## Snowpark DataFrame\n",
    "\n",
    "Let's create a Snowpark DataFrame containing our shift sales data from the **shift_sales_v** view in our Snowflake account using the Snowpark session.table function. A DataFrame is a data structure that contains rows and columns, similar to a SQL table.\n",
    "\n",
    "**Value:** Familiar representation of data for Python users.\n",
    "\n"
   ]
  },
  {
   "cell_type": "code",
   "execution_count": 0,
   "metadata": {
    "application/vnd.databricks.v1+cell": {
     "cellMetadata": {
      "byteLimit": 2048000,
      "rowLimit": 10000
     },
     "inputWidgets": {},
     "nuid": "0f1687c4-f8a3-4583-92e5-e18712af0ce8",
     "showTitle": false,
     "title": ""
    }
   },
   "outputs": [],
   "source": [
    "snowpark_df = session.table(database + \".\" + schema +\".SHIFT_SALES_V\")"
   ]
  },
  {
   "cell_type": "markdown",
   "metadata": {
    "application/vnd.databricks.v1+cell": {
     "cellMetadata": {
      "byteLimit": 2048000,
      "rowLimit": 10000
     },
     "inputWidgets": {},
     "nuid": "db6850eb-b933-4bd0-8205-76f02fac951b",
     "showTitle": false,
     "title": ""
    }
   },
   "source": [
    "## Preview the Data\n",
    "\n",
    "With our Snowpark DataFrame defined, let’s use the .show() function to take a look at the first 10 rows.\n",
    "**Value:** Instant access to data.\n",
    "\n"
   ]
  },
  {
   "cell_type": "code",
   "execution_count": 0,
   "metadata": {
    "application/vnd.databricks.v1+cell": {
     "cellMetadata": {
      "byteLimit": 2048000,
      "rowLimit": 10000
     },
     "inputWidgets": {},
     "nuid": "03d93c1f-41e1-4914-b5f8-393af27d8e0f",
     "showTitle": false,
     "title": ""
    }
   },
   "outputs": [
    {
     "output_type": "execute_result",
     "data": {
      "text/html": [
       "<div>\n",
       "<style scoped>\n",
       "    .dataframe tbody tr th:only-of-type {\n",
       "        vertical-align: middle;\n",
       "    }\n",
       "\n",
       "    .dataframe tbody tr th {\n",
       "        vertical-align: top;\n",
       "    }\n",
       "\n",
       "    .dataframe thead th {\n",
       "        text-align: right;\n",
       "    }\n",
       "</style>\n",
       "<table border=\"1\" class=\"dataframe\">\n",
       "  <thead>\n",
       "    <tr style=\"text-align: right;\">\n",
       "      <th></th>\n",
       "      <th>LOCATION_ID</th>\n",
       "      <th>CITY</th>\n",
       "      <th>DATE</th>\n",
       "      <th>SHIFT_SALES</th>\n",
       "      <th>SHIFT</th>\n",
       "      <th>MONTH</th>\n",
       "      <th>DAY_OF_WEEK</th>\n",
       "      <th>CITY_POPULATION</th>\n",
       "      <th>LATITUDE</th>\n",
       "      <th>LONGITUDE</th>\n",
       "    </tr>\n",
       "  </thead>\n",
       "  <tbody>\n",
       "    <tr>\n",
       "      <th>0</th>\n",
       "      <td>2574</td>\n",
       "      <td>New York City</td>\n",
       "      <td>2023-05-02</td>\n",
       "      <td>NaN</td>\n",
       "      <td>AM</td>\n",
       "      <td>5</td>\n",
       "      <td>2</td>\n",
       "      <td>8804190</td>\n",
       "      <td>40.731148</td>\n",
       "      <td>-74.003081</td>\n",
       "    </tr>\n",
       "    <tr>\n",
       "      <th>1</th>\n",
       "      <td>2574</td>\n",
       "      <td>New York City</td>\n",
       "      <td>2023-05-05</td>\n",
       "      <td>NaN</td>\n",
       "      <td>AM</td>\n",
       "      <td>5</td>\n",
       "      <td>5</td>\n",
       "      <td>8804190</td>\n",
       "      <td>40.731148</td>\n",
       "      <td>-74.003081</td>\n",
       "    </tr>\n",
       "    <tr>\n",
       "      <th>2</th>\n",
       "      <td>2574</td>\n",
       "      <td>New York City</td>\n",
       "      <td>2023-05-01</td>\n",
       "      <td>NaN</td>\n",
       "      <td>AM</td>\n",
       "      <td>5</td>\n",
       "      <td>1</td>\n",
       "      <td>8804190</td>\n",
       "      <td>40.731148</td>\n",
       "      <td>-74.003081</td>\n",
       "    </tr>\n",
       "    <tr>\n",
       "      <th>3</th>\n",
       "      <td>2574</td>\n",
       "      <td>New York City</td>\n",
       "      <td>2023-05-07</td>\n",
       "      <td>NaN</td>\n",
       "      <td>AM</td>\n",
       "      <td>5</td>\n",
       "      <td>0</td>\n",
       "      <td>8804190</td>\n",
       "      <td>40.731148</td>\n",
       "      <td>-74.003081</td>\n",
       "    </tr>\n",
       "    <tr>\n",
       "      <th>4</th>\n",
       "      <td>2574</td>\n",
       "      <td>New York City</td>\n",
       "      <td>2023-05-04</td>\n",
       "      <td>NaN</td>\n",
       "      <td>AM</td>\n",
       "      <td>5</td>\n",
       "      <td>4</td>\n",
       "      <td>8804190</td>\n",
       "      <td>40.731148</td>\n",
       "      <td>-74.003081</td>\n",
       "    </tr>\n",
       "  </tbody>\n",
       "</table>\n",
       "</div>"
      ],
      "text/plain": [
       "   LOCATION_ID           CITY  ...   LATITUDE  LONGITUDE\n",
       "0         2574  New York City  ...  40.731148 -74.003081\n",
       "1         2574  New York City  ...  40.731148 -74.003081\n",
       "2         2574  New York City  ...  40.731148 -74.003081\n",
       "3         2574  New York City  ...  40.731148 -74.003081\n",
       "4         2574  New York City  ...  40.731148 -74.003081\n",
       "\n",
       "[5 rows x 10 columns]"
      ]
     },
     "execution_count": 5,
     "metadata": {},
     "output_type": "execute_result"
    }
   ],
   "source": [
    "# Preview the data\n",
    "# Use the .show() function to look at the first 10 rows.\n",
    "# VALUE: instant access to data\n",
    "# snowpark_df.show()\n",
    "snowpark_df.limit(100).to_pandas().head()"
   ]
  },
  {
   "cell_type": "markdown",
   "metadata": {
    "application/vnd.databricks.v1+cell": {
     "cellMetadata": {
      "byteLimit": 2048000,
      "rowLimit": 10000
     },
     "inputWidgets": {},
     "nuid": "5db10d38-088b-41f3-afb3-fdee2399548b",
     "showTitle": false,
     "title": ""
    }
   },
   "source": [
    "## Select, Filter, Sort\n",
    "\n",
    "Notice the Null values for \"shift_sales\". Let's look at a single location.To do this, we will make another Snowpark DataFrame, location_df, from the above DataFrame and we will:\n",
    "\n",
    "1. Select columns\n",
    "2. Filter to a single location ID\n",
    "3. Sort by date\n",
    "\n",
    "**Value**: Efficient transformation pipelines using Python syntax and chained logic.\n",
    "\n"
   ]
  },
  {
   "cell_type": "code",
   "execution_count": 0,
   "metadata": {
    "application/vnd.databricks.v1+cell": {
     "cellMetadata": {
      "byteLimit": 2048000,
      "rowLimit": 10000
     },
     "inputWidgets": {},
     "nuid": "78961142-22d5-4596-bb75-5148054887d9",
     "showTitle": false,
     "title": ""
    }
   },
   "outputs": [
    {
     "output_type": "stream",
     "name": "stdout",
     "output_type": "stream",
     "text": [
      "--------------------------------------------------------------------\n|\"DATE\"      |\"SHIFT\"  |\"SHIFT_SALES\"  |\"LOCATION_ID\"  |\"CITY\"     |\n--------------------------------------------------------------------\n|2023-05-07  |PM       |NULL           |1135           |Vancouver  |\n|2023-05-07  |AM       |NULL           |1135           |Vancouver  |\n|2023-05-06  |PM       |NULL           |1135           |Vancouver  |\n|2023-05-06  |AM       |NULL           |1135           |Vancouver  |\n|2023-05-05  |PM       |NULL           |1135           |Vancouver  |\n|2023-05-05  |AM       |NULL           |1135           |Vancouver  |\n|2023-05-04  |PM       |NULL           |1135           |Vancouver  |\n|2023-05-04  |AM       |NULL           |1135           |Vancouver  |\n|2023-05-03  |PM       |NULL           |1135           |Vancouver  |\n|2023-05-03  |AM       |NULL           |1135           |Vancouver  |\n|2023-05-02  |PM       |NULL           |1135           |Vancouver  |\n|2023-05-02  |AM       |NULL           |1135           |Vancouver  |\n|2023-05-01  |PM       |NULL           |1135           |Vancouver  |\n|2023-05-01  |AM       |NULL           |1135           |Vancouver  |\n|2023-02-25  |AM       |304.5          |1135           |Vancouver  |\n|2023-02-10  |PM       |492.75         |1135           |Vancouver  |\n|2023-01-23  |PM       |199.91         |1135           |Vancouver  |\n|2023-01-22  |PM       |733.5          |1135           |Vancouver  |\n|2023-01-05  |AM       |238.5          |1135           |Vancouver  |\n|2022-11-24  |AM       |266.32         |1135           |Vancouver  |\n--------------------------------------------------------------------\n\n"
     ]
    }
   ],
   "source": [
    "# Select\n",
    "location_df = snowpark_df.select(\"date\", \"shift\", \"shift_sales\", \"location_id\", \"city\")\n",
    "\n",
    "# Filter\n",
    "location_df = location_df.filter(F.col(\"location_id\") == 1135)\n",
    "\n",
    "# Sort\n",
    "location_df = location_df.order_by([\"date\", \"shift\"], ascending=[0, 0])\n",
    "\n",
    "# Display\n",
    "location_df.show(n=20)"
   ]
  },
  {
   "cell_type": "markdown",
   "metadata": {
    "application/vnd.databricks.v1+cell": {
     "cellMetadata": {
      "byteLimit": 2048000,
      "rowLimit": 10000
     },
     "inputWidgets": {},
     "nuid": "0c31adbf-55c6-4ce1-be1a-e63c6cc7bb0f",
     "showTitle": false,
     "title": ""
    }
   },
   "source": [
    "We can see that shift sales are populated 8 days prior to the latest date in the data. The **missing values** represent future dates that do not have shift sales yet.\n",
    "\n",
    "## Snowpark works in two main ways:\n",
    "\n",
    "1. Snowpark code translated and executed as SQL on Snowflake\n",
    "2. Python functions deployed in a secure sandbox in Snowflake\n",
    "\n",
    "\n",
    "\n",
    "![snowparkoverview.png](files/shared_uploads/joe.jordan@snowflake.com/assets/snowparkoverview.png)\n",
    "\n",
    "\n",
    "Here's the value of using Snowpark:\n",
    "\n",
    "![SnowparkValue.png](files/shared_uploads/joe.jordan@snowflake.com/assets/SnowparkValue.png)\n"
   ]
  },
  {
   "cell_type": "markdown",
   "metadata": {
    "application/vnd.databricks.v1+cell": {
     "cellMetadata": {
      "byteLimit": 2048000,
      "rowLimit": 10000
     },
     "inputWidgets": {},
     "nuid": "86150936-7887-4558-849e-00fe7db8325d",
     "showTitle": false,
     "title": ""
    }
   },
   "source": [
    "## Explain the Query\n",
    "\n",
    "Let's look at what was executed in Snowflake to create our location_df DataFrame.\n",
    "\n",
    "The translated SQL query can be seen in the Snowsight interface under _Activity_ in the _Query History_ or directly in our notebook by using the explain() function. **Value:** Transparent execution and compute usage.\n",
    "\n",
    "\n",
    "\n",
    "![query_history.png](files/shared_uploads/joe.jordan@snowflake.com/assets/query_history.png)\n",
    "\n",
    "\n",
    "\n"
   ]
  },
  {
   "cell_type": "code",
   "execution_count": 0,
   "metadata": {
    "application/vnd.databricks.v1+cell": {
     "cellMetadata": {
      "byteLimit": 2048000,
      "rowLimit": 10000
     },
     "inputWidgets": {},
     "nuid": "e549529c-031d-4d09-810a-417872712e65",
     "showTitle": false,
     "title": ""
    }
   },
   "outputs": [
    {
     "output_type": "stream",
     "name": "stdout",
     "output_type": "stream",
     "text": [
      "---------DATAFRAME EXECUTION PLAN----------\nQuery List:\n1.\nSELECT \"DATE\", \"SHIFT\", \"SHIFT_SALES\", \"LOCATION_ID\", \"CITY\" FROM hol.schema1.SHIFT_SALES_V WHERE (\"LOCATION_ID\" = 1135 :: INT) ORDER BY \"DATE\" DESC NULLS LAST, \"SHIFT\" DESC NULLS LAST\nLogical Execution Plan:\nGlobalStats:\n    partitionsTotal=2\n    partitionsAssigned=2\n    bytesAssigned=24747520\nOperations:\n1:0     ->Result  SHIFT_SALES.DATE, SHIFT_SALES.SHIFT, SHIFT_SALES.SHIFT_SALES, SHIFT_SALES.LOCATION_ID, SHIFT_SALES.CITY  \n1:1          ->Sort  SHIFT_SALES.DATE DESC NULLS LAST, SHIFT_SALES.SHIFT DESC NULLS LAST  \n1:2               ->Filter  SHIFT_SALES.LOCATION_ID = 1135  \n1:3                    ->TableScan  HOL.SCHEMA1.SHIFT_SALES  LOCATION_ID, CITY, DATE, SHIFT_SALES, SHIFT  {partitionsTotal=2, partitionsAssigned=2, bytesAssigned=24747520}\n\n--------------------------------------------\n"
     ]
    }
   ],
   "source": [
    "location_df.explain()"
   ]
  },
  {
   "cell_type": "markdown",
   "metadata": {
    "application/vnd.databricks.v1+cell": {
     "cellMetadata": {
      "byteLimit": 2048000,
      "rowLimit": 10000
     },
     "inputWidgets": {},
     "nuid": "10c2ea79-d9e7-45d2-a91e-7c1b322a653c",
     "showTitle": false,
     "title": ""
    }
   },
   "source": [
    "![data_exploration.png](files/shared_uploads/joe.jordan@snowflake.com/assets/data_exploration.png)\n"
   ]
  },
  {
   "cell_type": "markdown",
   "metadata": {
    "application/vnd.databricks.v1+cell": {
     "cellMetadata": {
      "byteLimit": 2048000,
      "rowLimit": 10000
     },
     "inputWidgets": {},
     "nuid": "59a2b597-35ab-41ab-b339-bfaef9a8fcf8",
     "showTitle": false,
     "title": ""
    }
   },
   "source": [
    "## Compare DataFrame Size\n",
    "\n",
    "Let's bring a sample of our Snowflake dataset to our Python environment in a pandas DataFrame using the to_pandas() function. We will compare how much memory is used for the pandas DataFrame compared to the Snowpark DataFrame. As we will see, no memory is used for the Snowpark DataFrame in our Python environment. All data in the Snowpark DataFrame remains on Snowflake.\n",
    "**Value:** No copies or movement of data when working with Snowpark DataFrames.\n",
    "\n"
   ]
  },
  {
   "cell_type": "code",
   "execution_count": 0,
   "metadata": {
    "application/vnd.databricks.v1+cell": {
     "cellMetadata": {
      "byteLimit": 2048000,
      "rowLimit": 10000
     },
     "inputWidgets": {},
     "nuid": "f78d2265-1191-4417-8bfb-b6381f4fb379",
     "showTitle": false,
     "title": ""
    }
   },
   "outputs": [
    {
     "output_type": "stream",
     "name": "stdout",
     "output_type": "stream",
     "text": [
      "Snowpark DataFrame Size (snowpark_df): 0.00 MB\nPandas DataFrame Size (pandas_df): 1.86 MB\n"
     ]
    }
   ],
   "source": [
    "# Bring 10,000 rows from Snowflake to pandas\n",
    "pandas_df = snowpark_df.limit(10000).to_pandas()\n",
    "\n",
    "# Get Snowpark DataFrame size\n",
    "snowpark_size = sys.getsizeof(snowpark_df) / (1024*1024)\n",
    "print(f\"Snowpark DataFrame Size (snowpark_df): {snowpark_size:.2f} MB\")\n",
    "\n",
    "# Get pandas DataFrame size\n",
    "pandas_size = sys.getsizeof(pandas_df) / (1024*1024)\n",
    "print(f\"Pandas DataFrame Size (pandas_df): {pandas_size:.2f} MB\")"
   ]
  },
  {
   "cell_type": "markdown",
   "metadata": {
    "application/vnd.databricks.v1+cell": {
     "cellMetadata": {
      "byteLimit": 2048000,
      "rowLimit": 10000
     },
     "inputWidgets": {},
     "nuid": "d9615ef7-fd46-44a3-8052-e3087d8c3318",
     "showTitle": false,
     "title": ""
    }
   },
   "source": [
    "## Data Exploration\n",
    "\n",
    "Here, we will use Snowpark to explore our data. A common pattern for exploration is to use Snowpark to manipulate our data and then bring an aggregate table to our Python environment for visualization.\n",
    "**Value:** - Native Snowflake performance and scale for aggregating large datasets. - Easy transfer of aggregate data to the client-side environment for visualization.\n",
    "As we explore our data, we will highlight what is being done in Snowflake and what we are transferring to our client-side environment (Python notebook environment) for visualization.\n",
    "\n"
   ]
  },
  {
   "cell_type": "markdown",
   "metadata": {
    "application/vnd.databricks.v1+cell": {
     "cellMetadata": {
      "byteLimit": 2048000,
      "rowLimit": 10000
     },
     "inputWidgets": {},
     "nuid": "84a23e71-a66e-4e1f-af2f-689b9484e491",
     "showTitle": false,
     "title": ""
    }
   },
   "source": [
    "## How many rows are in our data?\n",
    "\n",
    "This will give us an idea of how we might need to approach working with this data. Do we have enough data to build a meaningful model? What compute might be required? Will we need to sample the data?\n",
    "**What's happening where?:** Rows counted in Snowflake. No data transfer.\n",
    "\n"
   ]
  },
  {
   "cell_type": "code",
   "execution_count": 0,
   "metadata": {
    "application/vnd.databricks.v1+cell": {
     "cellMetadata": {
      "byteLimit": 2048000,
      "rowLimit": 10000
     },
     "inputWidgets": {},
     "nuid": "c90a7914-da3c-41dc-9c1a-a998031f99e6",
     "showTitle": false,
     "title": ""
    }
   },
   "outputs": [
    {
     "output_type": "execute_result",
     "data": {
      "text/plain": [
       "1938202"
      ]
     },
     "execution_count": 9,
     "metadata": {},
     "output_type": "execute_result"
    }
   ],
   "source": [
    "#Use the .count() function\n",
    "snowpark_df.count()"
   ]
  },
  {
   "cell_type": "markdown",
   "metadata": {
    "application/vnd.databricks.v1+cell": {
     "cellMetadata": {
      "byteLimit": 2048000,
      "rowLimit": 10000
     },
     "inputWidgets": {},
     "nuid": "02880b7f-8933-422a-acf0-51d38cedfd32",
     "showTitle": false,
     "title": ""
    }
   },
   "source": [
    "## Let's calculate some descriptive statistics.\n",
    "\n",
    "We use the Snowpark describe() function to calculate summary statistics and then bring the aggregate results into a pandas DataFrame to visualize in a formatted table.\n",
    "**What's happening where?:** Summary statistics calculated in Snowflake. Transfer aggregate summary statistics for client-side visualization.\n",
    "\n"
   ]
  },
  {
   "cell_type": "code",
   "execution_count": 0,
   "metadata": {
    "application/vnd.databricks.v1+cell": {
     "cellMetadata": {
      "byteLimit": 2048000,
      "rowLimit": 10000
     },
     "inputWidgets": {},
     "nuid": "73adcb47-88c8-49ff-a114-d1a076e481db",
     "showTitle": false,
     "title": ""
    }
   },
   "outputs": [
    {
     "output_type": "execute_result",
     "data": {
      "text/html": [
       "<div>\n",
       "<style scoped>\n",
       "    .dataframe tbody tr th:only-of-type {\n",
       "        vertical-align: middle;\n",
       "    }\n",
       "\n",
       "    .dataframe tbody tr th {\n",
       "        vertical-align: top;\n",
       "    }\n",
       "\n",
       "    .dataframe thead th {\n",
       "        text-align: right;\n",
       "    }\n",
       "</style>\n",
       "<table border=\"1\" class=\"dataframe\">\n",
       "  <thead>\n",
       "    <tr style=\"text-align: right;\">\n",
       "      <th></th>\n",
       "      <th>SUMMARY</th>\n",
       "      <th>LOCATION_ID</th>\n",
       "      <th>CITY</th>\n",
       "      <th>SHIFT_SALES</th>\n",
       "      <th>SHIFT</th>\n",
       "      <th>MONTH</th>\n",
       "      <th>DAY_OF_WEEK</th>\n",
       "      <th>CITY_POPULATION</th>\n",
       "      <th>LATITUDE</th>\n",
       "      <th>LONGITUDE</th>\n",
       "    </tr>\n",
       "  </thead>\n",
       "  <tbody>\n",
       "    <tr>\n",
       "      <th>0</th>\n",
       "      <td>min</td>\n",
       "      <td>1.001000e+03</td>\n",
       "      <td>Barcelona</td>\n",
       "      <td>7.600000e-01</td>\n",
       "      <td>AM</td>\n",
       "      <td>1.000000e+00</td>\n",
       "      <td>0.000000e+00</td>\n",
       "      <td>1.056610e+05</td>\n",
       "      <td>-3.832745e+01</td>\n",
       "      <td>-1.232431e+02</td>\n",
       "    </tr>\n",
       "    <tr>\n",
       "      <th>1</th>\n",
       "      <td>stddev</td>\n",
       "      <td>4.234979e+03</td>\n",
       "      <td>None</td>\n",
       "      <td>4.381358e+02</td>\n",
       "      <td>None</td>\n",
       "      <td>3.223800e+00</td>\n",
       "      <td>1.996656e+00</td>\n",
       "      <td>4.566943e+06</td>\n",
       "      <td>2.839821e+01</td>\n",
       "      <td>7.830981e+01</td>\n",
       "    </tr>\n",
       "    <tr>\n",
       "      <th>2</th>\n",
       "      <td>max</td>\n",
       "      <td>1.551700e+04</td>\n",
       "      <td>Warsaw</td>\n",
       "      <td>4.785360e+03</td>\n",
       "      <td>PM</td>\n",
       "      <td>1.200000e+01</td>\n",
       "      <td>6.000000e+00</td>\n",
       "      <td>1.634983e+07</td>\n",
       "      <td>5.948668e+01</td>\n",
       "      <td>1.513234e+02</td>\n",
       "    </tr>\n",
       "    <tr>\n",
       "      <th>3</th>\n",
       "      <td>mean</td>\n",
       "      <td>8.119924e+03</td>\n",
       "      <td>None</td>\n",
       "      <td>6.092432e+02</td>\n",
       "      <td>None</td>\n",
       "      <td>6.169526e+00</td>\n",
       "      <td>3.000784e+00</td>\n",
       "      <td>4.325339e+06</td>\n",
       "      <td>3.168076e+01</td>\n",
       "      <td>-3.415415e+00</td>\n",
       "    </tr>\n",
       "    <tr>\n",
       "      <th>4</th>\n",
       "      <td>count</td>\n",
       "      <td>1.938202e+06</td>\n",
       "      <td>1938202</td>\n",
       "      <td>1.755096e+06</td>\n",
       "      <td>1938202</td>\n",
       "      <td>1.938202e+06</td>\n",
       "      <td>1.938202e+06</td>\n",
       "      <td>1.938202e+06</td>\n",
       "      <td>1.938202e+06</td>\n",
       "      <td>1.938202e+06</td>\n",
       "    </tr>\n",
       "  </tbody>\n",
       "</table>\n",
       "</div>"
      ],
      "text/plain": [
       "  SUMMARY   LOCATION_ID       CITY  ...  CITY_POPULATION      LATITUDE     LONGITUDE\n",
       "0     min  1.001000e+03  Barcelona  ...     1.056610e+05 -3.832745e+01 -1.232431e+02\n",
       "1  stddev  4.234979e+03       None  ...     4.566943e+06  2.839821e+01  7.830981e+01\n",
       "2     max  1.551700e+04     Warsaw  ...     1.634983e+07  5.948668e+01  1.513234e+02\n",
       "3    mean  8.119924e+03       None  ...     4.325339e+06  3.168076e+01 -3.415415e+00\n",
       "4   count  1.938202e+06    1938202  ...     1.938202e+06  1.938202e+06  1.938202e+06\n",
       "\n",
       "[5 rows x 10 columns]"
      ]
     },
     "execution_count": 10,
     "metadata": {},
     "output_type": "execute_result"
    }
   ],
   "source": [
    "#Use the Snowpark DataFrame .describe function. You need to need to visualize from a pandas DataFrame\n",
    "snowpark_df.describe().to_pandas()"
   ]
  },
  {
   "cell_type": "code",
   "execution_count": 0,
   "metadata": {
    "application/vnd.databricks.v1+cell": {
     "cellMetadata": {
      "byteLimit": 2048000,
      "rowLimit": 10000
     },
     "inputWidgets": {},
     "nuid": "bf792dd1-b451-4628-a772-3fd2983c9598",
     "showTitle": false,
     "title": ""
    }
   },
   "outputs": [
    {
     "output_type": "execute_result",
     "data": {
      "text/plain": [
       "['LOCATION_ID',\n",
       " 'SHIFT_SALES',\n",
       " 'MONTH',\n",
       " 'DAY_OF_WEEK',\n",
       " 'CITY_POPULATION',\n",
       " 'LATITUDE',\n",
       " 'LONGITUDE']"
      ]
     },
     "execution_count": 11,
     "metadata": {},
     "output_type": "execute_result"
    }
   ],
   "source": [
    "# What are the numeric columns?\n",
    "# Define Snowflake numeric types\n",
    "numeric_types = [T.DecimalType, T.DoubleType, T.FloatType, T.IntegerType, T.LongType]\n",
    "\n",
    "# Get numeric columns\n",
    "numeric_columns = [col.name for col in snowpark_df.schema.fields if type(col.datatype) in numeric_types]\n",
    "numeric_columns"
   ]
  },
  {
   "cell_type": "code",
   "execution_count": 0,
   "metadata": {
    "application/vnd.databricks.v1+cell": {
     "cellMetadata": {
      "byteLimit": 2048000,
      "rowLimit": 10000
     },
     "inputWidgets": {},
     "nuid": "f4522b07-b2e7-4e55-ad4f-d4e4ce68fc00",
     "showTitle": false,
     "title": ""
    }
   },
   "outputs": [
    {
     "output_type": "execute_result",
     "data": {
      "text/plain": [
       "['CITY', 'SHIFT']"
      ]
     },
     "execution_count": 12,
     "metadata": {},
     "output_type": "execute_result"
    }
   ],
   "source": [
    "# What are the categorical columns?\n",
    "# Define Snowflake categorical types\n",
    "categorical_types = [T.StringType]\n",
    "\n",
    "# Get categorical columns\n",
    "categorical_columns = [col.name for col in snowpark_df.schema.fields if type(col.datatype) in categorical_types]\n",
    "categorical_columns"
   ]
  },
  {
   "cell_type": "code",
   "execution_count": 0,
   "metadata": {
    "application/vnd.databricks.v1+cell": {
     "cellMetadata": {
      "byteLimit": 2048000,
      "rowLimit": 10000
     },
     "inputWidgets": {},
     "nuid": "810025fd-f851-4d7e-9965-53a99467f05e",
     "showTitle": false,
     "title": ""
    }
   },
   "outputs": [
    {
     "output_type": "execute_result",
     "data": {
      "text/plain": [
       "<Axes: ylabel='CITY'>"
      ]
     },
     "execution_count": 13,
     "metadata": {},
     "output_type": "execute_result"
    },
    {
     "output_type": "display_data",
     "data": {
      "image/png": "[encoded data removed]",
      "text/plain": [
       "<Figure size 640x480 with 1 Axes>"
      ]
     },
     "metadata": {},
     "output_type": "display_data"
    }
   ],
   "source": [
    "# What are the average shift sales (USD) by city?\n",
    "# Group by city and average shift sales\n",
    "analysis_df = snowpark_df.group_by(\"city\").agg(F.mean(\"shift_sales\").alias(\"avg_shift_sales\"))\n",
    "\n",
    "# Sort by average shift sales\n",
    "analysis_df = analysis_df.sort(\"avg_shift_sales\", ascending=True)\n",
    "\n",
    "# Pull to pandas and plot\n",
    "analysis_df.to_pandas().plot.barh(x=\"CITY\", y=\"AVG_SHIFT_SALES\")"
   ]
  },
  {
   "cell_type": "markdown",
   "metadata": {
    "application/vnd.databricks.v1+cell": {
     "cellMetadata": {
      "byteLimit": 2048000,
      "rowLimit": 10000
     },
     "inputWidgets": {},
     "nuid": "121b9958-4312-4b38-bc7b-7e887a96e451",
     "showTitle": false,
     "title": ""
    }
   },
   "source": [
    "![feature_engineering.png](files/shared_uploads/joe.jordan@snowflake.com/assets/feature_engineering.png)\n"
   ]
  },
  {
   "cell_type": "markdown",
   "metadata": {
    "application/vnd.databricks.v1+cell": {
     "cellMetadata": {
      "byteLimit": 2048000,
      "rowLimit": 10000
     },
     "inputWidgets": {},
     "nuid": "92803bbf-e879-4aa6-aa79-e60d8bc93d1e",
     "showTitle": false,
     "title": ""
    }
   },
   "source": [
    "## Feature Engineering\n",
    "\n",
    "Now let's keep revelant columns and transform columns to create features needed for our prediction model.To make some of our features more useful, we will normalize them using standard preprocessing techniques, such as One-Hot Encoding and MinMaxScaling. With SnowparkML, you can use a standard sklearn-style API to execute fully distributed feature engineering preprocessing tasks on Snowflake compute, with zero data movement. Let's fit a scaler and encoder to our data, then use it to transform the data, producing new feature columns.\n",
    "\n",
    "\n",
    "**Value:** The Snowpark syntax makes pipelines easy to implement and understand. The syntax also allows for easy migration of Spark pipelines to Snowflake.\n",
    "\n",
    "\n",
    "**All transformations for feature engineering in this notebook will be executed on Snowflake compute.**\n",
    "\n",
    "Notice what we haven't had to do? No tuning, maintenance, or operational overhead. We just need a role, warehouse, and access to the data.\n",
    "**Value**: Near-zero maintenance. Focus on the work that brings value.\n",
    "\n"
   ]
  },
  {
   "cell_type": "markdown",
   "metadata": {
    "application/vnd.databricks.v1+cell": {
     "cellMetadata": {
      "byteLimit": 2048000,
      "rowLimit": 10000
     },
     "inputWidgets": {},
     "nuid": "3eb45d4d-7e3d-4509-a49e-3e3e4adafc6a",
     "showTitle": false,
     "title": ""
    }
   },
   "source": [
    "## Create a Rolling Average Feature\n",
    "\n",
    "We will use a Snowflake window function to get a **rolling shift average by location** over time. Window functions allow us to aggregate on a \"moving\" group of rows.\n",
    "\n",
    "#### **Step 1. Create a Window**\n",
    "\n",
    "Our window will partition the data by location and shift. It will order rows by date. It will include all rows prior to the current date of the observation it is aggregating for.\n",
    "\n"
   ]
  },
  {
   "cell_type": "code",
   "execution_count": 0,
   "metadata": {
    "application/vnd.databricks.v1+cell": {
     "cellMetadata": {
      "byteLimit": 2048000,
      "rowLimit": 10000
     },
     "inputWidgets": {},
     "nuid": "d0cf869d-614e-4b0a-8aa9-c9ccfffc4750",
     "showTitle": false,
     "title": ""
    }
   },
   "outputs": [],
   "source": [
    "window_by_location_all_days = (\n",
    "    Window.partition_by(\"location_id\", \"shift\")\n",
    "    .order_by(\"date\")\n",
    "    .rows_between(Window.UNBOUNDED_PRECEDING, Window.CURRENT_ROW - 1)\n",
    ")"
   ]
  },
  {
   "cell_type": "markdown",
   "metadata": {
    "application/vnd.databricks.v1+cell": {
     "cellMetadata": {
      "byteLimit": 2048000,
      "rowLimit": 10000
     },
     "inputWidgets": {},
     "nuid": "d8bfff5d-83ee-4914-9de6-4c53c64c48f2",
     "showTitle": false,
     "title": ""
    }
   },
   "source": [
    "#### **Step 2. Aggregate across the Window**\n",
    "\n"
   ]
  },
  {
   "cell_type": "code",
   "execution_count": 0,
   "metadata": {
    "application/vnd.databricks.v1+cell": {
     "cellMetadata": {
      "byteLimit": 2048000,
      "rowLimit": 10000
     },
     "inputWidgets": {},
     "nuid": "846d1fa1-8e28-46d7-9a38-8c4353125a28",
     "showTitle": false,
     "title": ""
    }
   },
   "outputs": [],
   "source": [
    "snowpark_df = snowpark_df.with_column(\n",
    "    \"avg_location_shift_sales\", \n",
    "    F.avg(\"shift_sales\").over(window_by_location_all_days)\n",
    ")"
   ]
  },
  {
   "cell_type": "markdown",
   "metadata": {
    "application/vnd.databricks.v1+cell": {
     "cellMetadata": {
      "byteLimit": 2048000,
      "rowLimit": 10000
     },
     "inputWidgets": {},
     "nuid": "161fb83c-aab2-4490-a43f-0e8e617d20b0",
     "showTitle": false,
     "title": ""
    }
   },
   "source": [
    "## Impute Missing Values\n",
    "\n",
    "The rolling average feature we just created is missing if there are no prior shift sales at that location. We will replace those missing values with 0.\n",
    "\n"
   ]
  },
  {
   "cell_type": "code",
   "execution_count": 0,
   "metadata": {
    "application/vnd.databricks.v1+cell": {
     "cellMetadata": {
      "byteLimit": 2048000,
      "rowLimit": 10000
     },
     "inputWidgets": {},
     "nuid": "229ef0f4-1b80-4e92-9924-f9376e001710",
     "showTitle": false,
     "title": ""
    }
   },
   "outputs": [],
   "source": [
    "snowpark_df = snowpark_df.fillna(value=0, subset=[\"avg_location_shift_sales\"])"
   ]
  },
  {
   "cell_type": "markdown",
   "metadata": {
    "application/vnd.databricks.v1+cell": {
     "cellMetadata": {
      "byteLimit": 2048000,
      "rowLimit": 10000
     },
     "inputWidgets": {},
     "nuid": "34133870-d95f-4642-9555-0a6634fe740c",
     "showTitle": false,
     "title": ""
    }
   },
   "source": [
    "## Leverage Snowpark ML Modeling API to create features\n",
    "\n",
    "Snowpark ML provides APIs to support each stage of an end-to-end machine learning development and deployment process and includes two key components: [Snowpark ML Modeling](https://docs.snowflake.com/en/developer-guide/snowpark-ml/snowpark-ml-modeling) and [Snowpark ML Ops](https://docs.snowflake.com/en/developer-guide/snowpark-ml/snowpark-ml-mlops-model-registry).\n",
    "\n",
    "[Snowpark ML Modeling](https://docs.snowflake.com/en/developer-guide/snowpark-ml/snowpark-ml-modeling) supports data preprocessing, feature engineering, and model training in Snowflake using popular machine learning frameworks, such as scikit-learn, xgboost, and lightgbm. This API also includes a preprocessing module that can use compute resources provided by a Snowpark-optimized warehouse to provide scalable data transformations.\n",
    "\n",
    "Snowpark ML Operations (MLOps), featuring the [Snowpark ML Model Registry](https://docs.snowflake.com/en/developer-guide/snowpark-ml/snowpark-ml-mlops-model-registry), complements the Snowpark ML Development API. The model registry allows secure deployment and management of models in Snowflake, and supports models trained both inside and outside of Snowflake.\n",
    "\n",
    "\n",
    "\n",
    "Here are a Snowpark Features commonly used for Data Engineering tasks:\n",
    "\n",
    "![Snowpark4DE.png](files/shared_uploads/joe.jordan@snowflake.com/assets/Snowpark4DE.png)\n",
    "\n",
    "\n",
    "\n",
    "Here are Snowpark Features commonly used by Data Scientists for ML efforts:\n",
    "\n",
    "![Snowpark4DS1.png](files/shared_uploads/joe.jordan@snowflake.com/assets/Snowpark4DS.png)\n"
   ]
  },
  {
   "cell_type": "code",
   "execution_count": 0,
   "metadata": {
    "application/vnd.databricks.v1+cell": {
     "cellMetadata": {
      "byteLimit": 2048000,
      "rowLimit": 10000
     },
     "inputWidgets": {},
     "nuid": "15772445-584a-4480-ab32-cc2ab9361317",
     "showTitle": false,
     "title": ""
    }
   },
   "outputs": [
    {
     "output_type": "execute_result",
     "data": {
      "text/plain": [
       "[Row(status='Statement executed successfully.')]"
      ]
     },
     "execution_count": 17,
     "metadata": {},
     "output_type": "execute_result"
    }
   ],
   "source": [
    "session.sql(\"alter warehouse \" + warehouse + \" set warehouse_size = LARGE\").collect()"
   ]
  },
  {
   "cell_type": "code",
   "execution_count": 0,
   "metadata": {
    "application/vnd.databricks.v1+cell": {
     "cellMetadata": {
      "byteLimit": 2048000,
      "rowLimit": 10000
     },
     "inputWidgets": {},
     "nuid": "73a9df86-c6a2-44a0-8c46-62b31212d48b",
     "showTitle": false,
     "title": ""
    }
   },
   "outputs": [],
   "source": [
    "# Import Snowpark ML: Machine Learning Toolkit for Snowflake\n",
    "import snowflake.ml.modeling.preprocessing as snowmlpp\n",
    "\n",
    "# Define our scaler and ordinal encoding functions\n",
    "\n",
    "# Snowpark ML scaler (MinMaxScaler) is used to shrink data within the given range, usually of 0 to 1. \n",
    "# It transforms data by scaling features to a given range. It scales the values to a specific value range without changing the shape of the original distribution.\n",
    "# For the Tasty_Bytes data, use MinMaxScaler to normalize \"CITY_POPULATION\" into \"CITY_POPULATION_NORM\" with values between 0 and 1.\n",
    "\n",
    "def fit_scaler(session, df):\n",
    "    mm_target_columns = [\"CITY_POPULATION\"]\n",
    "    mm_target_cols_out = [\"CITY_POPULATION_NORM\"]\n",
    "    snowml_mms = snowmlpp.MinMaxScaler(input_cols=mm_target_columns, output_cols=mm_target_cols_out)\n",
    "    snowml_mms.fit(df)\n",
    "    return snowml_mms\n",
    "\n",
    "# Snowpark ML ordinal encoding (OE) is used to improve model performance by providing more information to the model about categorical variables. \n",
    "# It can help to avoid the problem of ordinality, which can occur when a categorical variable has a natural ordering (e.g. “small”, “medium”, “large”).\n",
    "# For the Tasty_Bytes data, use OE to change \"SHIFT\" which is currently AM or PM into and integer representation of \"SHIFT_OHE\" is 1.0 or 0.0. \n",
    "\n",
    "def fit_oe(session, df):\n",
    "    oe_target_cols = [\"SHIFT\"]\n",
    "    oe_output_cols = [\"SHIFT_OE\"]\n",
    "    snowml_oe = snowmlpp.OrdinalEncoder(input_cols=oe_target_cols, output_cols=oe_output_cols)\n",
    "    snowml_oe.fit(df)\n",
    "    return snowml_oe"
   ]
  },
  {
   "cell_type": "code",
   "execution_count": 0,
   "metadata": {
    "application/vnd.databricks.v1+cell": {
     "cellMetadata": {
      "byteLimit": 2048000,
      "rowLimit": 10000
     },
     "inputWidgets": {},
     "nuid": "6be05356-cdbd-4bd5-9e82-92d8d2e8ccec",
     "showTitle": false,
     "title": ""
    }
   },
   "outputs": [
    {
     "output_type": "execute_result",
     "data": {
      "text/html": [
       "<div>\n",
       "<style scoped>\n",
       "    .dataframe tbody tr th:only-of-type {\n",
       "        vertical-align: middle;\n",
       "    }\n",
       "\n",
       "    .dataframe tbody tr th {\n",
       "        vertical-align: top;\n",
       "    }\n",
       "\n",
       "    .dataframe thead th {\n",
       "        text-align: right;\n",
       "    }\n",
       "</style>\n",
       "<table border=\"1\" class=\"dataframe\">\n",
       "  <thead>\n",
       "    <tr style=\"text-align: right;\">\n",
       "      <th></th>\n",
       "      <th>SHIFT_OE</th>\n",
       "      <th>CITY_POPULATION_NORM</th>\n",
       "      <th>LOCATION_ID</th>\n",
       "      <th>CITY</th>\n",
       "      <th>DATE</th>\n",
       "      <th>SHIFT_SALES</th>\n",
       "      <th>SHIFT</th>\n",
       "      <th>MONTH</th>\n",
       "      <th>DAY_OF_WEEK</th>\n",
       "      <th>CITY_POPULATION</th>\n",
       "      <th>LATITUDE</th>\n",
       "      <th>LONGITUDE</th>\n",
       "      <th>AVG_LOCATION_SHIFT_SALES</th>\n",
       "    </tr>\n",
       "  </thead>\n",
       "  <tbody>\n",
       "    <tr>\n",
       "      <th>0</th>\n",
       "      <td>1.0</td>\n",
       "      <td>0.053749</td>\n",
       "      <td>10594</td>\n",
       "      <td>Stockholm</td>\n",
       "      <td>2016-03-05</td>\n",
       "      <td>263.99</td>\n",
       "      <td>PM</td>\n",
       "      <td>3</td>\n",
       "      <td>6</td>\n",
       "      <td>978770</td>\n",
       "      <td>59.34722</td>\n",
       "      <td>18.101904</td>\n",
       "      <td>0.000000</td>\n",
       "    </tr>\n",
       "    <tr>\n",
       "      <th>1</th>\n",
       "      <td>1.0</td>\n",
       "      <td>0.053749</td>\n",
       "      <td>10594</td>\n",
       "      <td>Stockholm</td>\n",
       "      <td>2016-05-31</td>\n",
       "      <td>153.11</td>\n",
       "      <td>PM</td>\n",
       "      <td>5</td>\n",
       "      <td>2</td>\n",
       "      <td>978770</td>\n",
       "      <td>59.34722</td>\n",
       "      <td>18.101904</td>\n",
       "      <td>263.990000</td>\n",
       "    </tr>\n",
       "    <tr>\n",
       "      <th>2</th>\n",
       "      <td>1.0</td>\n",
       "      <td>0.053749</td>\n",
       "      <td>10594</td>\n",
       "      <td>Stockholm</td>\n",
       "      <td>2016-06-06</td>\n",
       "      <td>334.75</td>\n",
       "      <td>PM</td>\n",
       "      <td>6</td>\n",
       "      <td>1</td>\n",
       "      <td>978770</td>\n",
       "      <td>59.34722</td>\n",
       "      <td>18.101904</td>\n",
       "      <td>208.550000</td>\n",
       "    </tr>\n",
       "    <tr>\n",
       "      <th>3</th>\n",
       "      <td>1.0</td>\n",
       "      <td>0.053749</td>\n",
       "      <td>10594</td>\n",
       "      <td>Stockholm</td>\n",
       "      <td>2016-06-15</td>\n",
       "      <td>217.30</td>\n",
       "      <td>PM</td>\n",
       "      <td>6</td>\n",
       "      <td>3</td>\n",
       "      <td>978770</td>\n",
       "      <td>59.34722</td>\n",
       "      <td>18.101904</td>\n",
       "      <td>250.616667</td>\n",
       "    </tr>\n",
       "    <tr>\n",
       "      <th>4</th>\n",
       "      <td>1.0</td>\n",
       "      <td>0.053749</td>\n",
       "      <td>10594</td>\n",
       "      <td>Stockholm</td>\n",
       "      <td>2016-07-22</td>\n",
       "      <td>144.98</td>\n",
       "      <td>PM</td>\n",
       "      <td>7</td>\n",
       "      <td>5</td>\n",
       "      <td>978770</td>\n",
       "      <td>59.34722</td>\n",
       "      <td>18.101904</td>\n",
       "      <td>242.287500</td>\n",
       "    </tr>\n",
       "  </tbody>\n",
       "</table>\n",
       "</div>"
      ],
      "text/plain": [
       "   SHIFT_OE  CITY_POPULATION_NORM  ...  LONGITUDE AVG_LOCATION_SHIFT_SALES\n",
       "0       1.0              0.053749  ...  18.101904                 0.000000\n",
       "1       1.0              0.053749  ...  18.101904               263.990000\n",
       "2       1.0              0.053749  ...  18.101904               208.550000\n",
       "3       1.0              0.053749  ...  18.101904               250.616667\n",
       "4       1.0              0.053749  ...  18.101904               242.287500\n",
       "\n",
       "[5 rows x 13 columns]"
      ]
     },
     "execution_count": 19,
     "metadata": {},
     "output_type": "execute_result"
    }
   ],
   "source": [
    "# Run Snowpark ML preprocessing functions against our feature data\n",
    "\n",
    "# For the Tasty_Bytes data, use MinMaxScaler to normalize \"CITY_POPULATION\" into \"CITY_POPULATION_NORM\" with values between 0 and 1.\n",
    "snowml_mms = fit_scaler(session, snowpark_df)\n",
    "normed_df = snowml_mms.transform(snowpark_df)\n",
    "\n",
    "# For the Tasty_Bytes data, use OneHotEncoder to change \"SHIFT\" which is currently AM or PM into and integer representation of \"SHIFT_OHE_AM\" is 1 or 0 and \"SHIFT_OHE_PM\" is 1 or 0. \n",
    "snowml_oe = fit_oe(session, normed_df)\n",
    "oe_df = snowml_oe.transform(normed_df)\n",
    "#oe_df.show()\n",
    "oe_df.limit(100).to_pandas().head()"
   ]
  },
  {
   "cell_type": "markdown",
   "metadata": {
    "application/vnd.databricks.v1+cell": {
     "cellMetadata": {
      "byteLimit": 2048000,
      "rowLimit": 10000
     },
     "inputWidgets": {},
     "nuid": "a72c9e21-c51e-4b1f-860d-c1ae8010d712",
     "showTitle": false,
     "title": ""
    }
   },
   "source": [
    "## Filter to Historical Data\n",
    "\n",
    "Our data includes placeholders for future data with missing shift sales. The future data represents the next 7 days of shifts for all locations. The historical data has shift sales for all locations where a food truck parked during a shift. We will only use historical data when training our model and will filter out the dates where the shift_sales column is missing.\n",
    "\n"
   ]
  },
  {
   "cell_type": "code",
   "execution_count": 0,
   "metadata": {
    "application/vnd.databricks.v1+cell": {
     "cellMetadata": {
      "byteLimit": 2048000,
      "rowLimit": 10000
     },
     "inputWidgets": {},
     "nuid": "f449c74b-04ba-40a7-81ba-71f2eea5801f",
     "showTitle": false,
     "title": ""
    }
   },
   "outputs": [],
   "source": [
    "# Data Science best practice: Always perform data quality on your training set e.g. remove nulls or invalid cells as they are the biggest problem in a training set as they output high false positives\n",
    "\n",
    "# Specifically for Tasty_Bytes data, dates where \"shift_sales\" are null values reflect future dates where sales need to be predicted.\n",
    "# Filter out these future dates so these records will not be used in model training. \n",
    "historical_df = oe_df.filter(F.col(\"shift_sales\").is_not_null())"
   ]
  },
  {
   "cell_type": "markdown",
   "metadata": {
    "application/vnd.databricks.v1+cell": {
     "cellMetadata": {
      "byteLimit": 2048000,
      "rowLimit": 10000
     },
     "inputWidgets": {},
     "nuid": "1ab175d9-cf3b-4952-b05a-1f3d851f4863",
     "showTitle": false,
     "title": ""
    }
   },
   "source": [
    "## Persist Transformations\n",
    "\n",
    "If we want to save the changes we can either save it as a table, meaning the SQL generated by the DataFrame is executed and the result is stored in a table or as a view where the DataFrame SQL will be the definition of the view.\n",
    "**save_as_table** saves the result in a table, if **mode='overwrite'** then it will also replace the data that is in it.\n",
    "\n"
   ]
  },
  {
   "cell_type": "code",
   "execution_count": 0,
   "metadata": {
    "application/vnd.databricks.v1+cell": {
     "cellMetadata": {
      "byteLimit": 2048000,
      "rowLimit": 10000
     },
     "inputWidgets": {},
     "nuid": "3df5eb3c-3d83-4ee6-88e4-a6efec5a8411",
     "showTitle": false,
     "title": ""
    }
   },
   "outputs": [
    {
     "output_type": "stream",
     "name": "stdout",
     "output_type": "stream",
     "text": [
      "---------------------------------------------------------------------------------------------------------------------------------------------------------------------------------------------------------------------\n|\"SHIFT_OE\"  |\"CITY_POPULATION_NORM\"  |\"LOCATION_ID\"  |\"CITY\"          |\"DATE\"      |\"SHIFT_SALES\"  |\"SHIFT\"  |\"MONTH\"  |\"DAY_OF_WEEK\"  |\"CITY_POPULATION\"  |\"LATITUDE\"  |\"LONGITUDE\"  |\"AVG_LOCATION_SHIFT_SALES\"  |\n---------------------------------------------------------------------------------------------------------------------------------------------------------------------------------------------------------------------\n|1.0         |0.40889463727601966     |10016          |Rio de Janeiro  |2015-07-29  |621.99         |PM       |7        |3              |6747815            |-22.956992  |-43.176834   |0.0                         |\n|1.0         |0.40889463727601966     |10016          |Rio de Janeiro  |2015-08-31  |171.87         |PM       |8        |1              |6747815            |-22.956992  |-43.176834   |621.99                      |\n|1.0         |0.40889463727601966     |10016          |Rio de Janeiro  |2016-03-24  |742.05         |PM       |3        |4              |6747815            |-22.956992  |-43.176834   |396.93                      |\n|1.0         |0.40889463727601966     |10016          |Rio de Janeiro  |2016-08-03  |747.66         |PM       |8        |3              |6747815            |-22.956992  |-43.176834   |511.96999999999997          |\n|1.0         |0.40889463727601966     |10016          |Rio de Janeiro  |2016-09-05  |336.94         |PM       |9        |1              |6747815            |-22.956992  |-43.176834   |570.8924999999999           |\n|1.0         |0.40889463727601966     |10016          |Rio de Janeiro  |2017-03-16  |830.5          |PM       |3        |4              |6747815            |-22.956992  |-43.176834   |524.102                     |\n|1.0         |0.40889463727601966     |10016          |Rio de Janeiro  |2017-07-26  |857.63         |PM       |7        |3              |6747815            |-22.956992  |-43.176834   |575.1683333333333           |\n|1.0         |0.40889463727601966     |10016          |Rio de Janeiro  |2017-08-28  |420.95         |PM       |8        |1              |6747815            |-22.956992  |-43.176834   |615.5199999999999           |\n|1.0         |0.40889463727601966     |10016          |Rio de Janeiro  |2018-03-22  |952.67         |PM       |3        |4              |6747815            |-22.956992  |-43.176834   |591.1987499999999           |\n|1.0         |0.40889463727601966     |10016          |Rio de Janeiro  |2018-08-01  |996.56         |PM       |8        |3              |6747815            |-22.956992  |-43.176834   |631.3622222222222           |\n---------------------------------------------------------------------------------------------------------------------------------------------------------------------------------------------------------------------\n\n"
     ]
    }
   ],
   "source": [
    "# Let's select \n",
    "historical_df.write.save_as_table(table_name=schema + '.INPUT_DATA', mode='overwrite')\n",
    "session.table('INPUT_DATA').show()"
   ]
  },
  {
   "cell_type": "markdown",
   "metadata": {
    "application/vnd.databricks.v1+cell": {
     "cellMetadata": {
      "byteLimit": 2048000,
      "rowLimit": 10000
     },
     "inputWidgets": {},
     "nuid": "60c1e663-90e3-4dc0-a94e-4a1e203126f7",
     "showTitle": false,
     "title": ""
    }
   },
   "source": [
    "# Part 2 - Use Snowflake Cortex ML-Based Function for Time-Series Forecasting\n",
    "\n",
    "![Part2.png](files/shared_uploads/joe.jordan@snowflake.com/assets/Part2.png)\n"
   ]
  },
  {
   "cell_type": "markdown",
   "metadata": {
    "application/vnd.databricks.v1+cell": {
     "cellMetadata": {
      "byteLimit": 2048000,
      "rowLimit": 10000
     },
     "inputWidgets": {},
     "nuid": "35c36a08-5567-4449-a1dc-2b5fbd7b7a57",
     "showTitle": false,
     "title": ""
    }
   },
   "source": [
    "## Snowflake Cortex ML Functions\n",
    "\n",
    "Time-Series Forecasting is part of Snowflake Cortex, Snowflake’s intelligent, fully-managed AI and ML service. This feature is part of the Snowflake Cortex ML-based function suite. Forecasting employs a machine learning algorithm to predict future data by using historical time series data.\n",
    "\n",
    "![CortexML.png](files/shared_uploads/joe.jordan@snowflake.com/assets/CortexML.png)\n",
    "\n",
    "\n",
    "Time series forecasting produces univariate predictions of future data based on historical input data. A common use case is to forecast sales based on seasonality and other factors.The historical data must include:\n",
    "\n",
    "- A timestamp column.\n",
    "- A target value column representing some quantity of interest at each timestamp.\n",
    "\n",
    "\n",
    "The historical data can also include additional columns that might have influenced the target value ([exogenous variables](https://en.wikipedia.org/wiki/Exogenous_and_endogenous_variables)). These can be numbers or text. The nature (categorical or continuous) of each such column is automatically detected.\n",
    "\n",
    "This historical data is used to train a machine learning model that produces a forecast of the value column at future timestamps. The model is a schema-level object and can be used for multiple forecasts after it is trained.\n",
    "\n",
    "Forecasting works with either single-series or multi-series data. Multi-series data represents multiple independent threads of events. For example, if you have sales data for multiple stores, each store’s sales can be forecast separately by a single model based on the store identifier.\n",
    "\n",
    "![MLPF_Forecast.png](files/shared_uploads/joe.jordan@snowflake.com/assets/MLPF_Forecast.png)\n"
   ]
  },
  {
   "cell_type": "markdown",
   "metadata": {
    "application/vnd.databricks.v1+cell": {
     "cellMetadata": {
      "byteLimit": 2048000,
      "rowLimit": 10000
     },
     "inputWidgets": {},
     "nuid": "1536706f-ff6a-4193-a2de-825a5d9bafdb",
     "showTitle": false,
     "title": ""
    }
   },
   "source": [
    "To produce forecasts of time series data, use the Snowflake built-in class [FORECAST](https://docs.snowflake.com/en/sql-reference/classes/forecast), and follow these steps:\n",
    "\n",
    "1. [Create a forecast model object](https://docs.snowflake.com/en/sql-reference/classes/forecast.html#label-class-forecast-create) passing in a reference to the training data.This object will fit (train) a model to the training data that you provide. The model is a schema-level object.\n",
    "2. Using this forecast model object, call [CREATE SNOWFLAKE.ML.FORECAST](https://docs.snowflake.com/en/sql-reference/classes/forecast.html#label-class-forecast-create) to produce a forecast, passing in information about the future period (that is, the number of time steps and values for any non-timestamp features).The method uses the model to produce a forecast.\n",
    "\n"
   ]
  },
  {
   "cell_type": "markdown",
   "metadata": {
    "application/vnd.databricks.v1+cell": {
     "cellMetadata": {
      "byteLimit": 2048000,
      "rowLimit": 10000
     },
     "inputWidgets": {},
     "nuid": "73c88ba0-3750-4bb0-8579-80a944291c6e",
     "showTitle": false,
     "title": ""
    }
   },
   "source": [
    "#### About the Forecasting Algorithm\n",
    "\n",
    "The forecasting algorithm is powered by a [gradient boosting machine](https://en.wikipedia.org/wiki/Gradient_boosting) (GBM). Like an [ARIMA](https://en.wikipedia.org/wiki/Autoregressive_integrated_moving_average) model, it uses a differencing transformation to model data with a non-stationary trend and uses auto-regressive lags of the historical target data as model features.\n",
    "\n",
    "Additionally, the algorithm uses rolling averages of historical target data to help predict trends and automatically produces cyclic calendar features (such as day of week and week of year) from timestamp data.\n",
    "\n",
    "You can fit models with only historical target and timestamp data, or you may include exogenous data (features) that might have influenced the target value. Exogenous variables can be numerical or categorical and may be NULL (rows containing NULLs for exogenous variables are not dropped).\n",
    "\n",
    "The algorithm does not rely on one-hot encoding when training on categorical features, so you can use categorical data with many dimensions (high cardinality).\n",
    "\n",
    "For more details about Snowflake's ML-Powered Forecasting Algorithm and how to use, please see [https://docs.snowflake.com/en/user-guide/ml-powered-forecasting#about-the-forecasting-algorithm](https://docs.snowflake.com/en/user-guide/ml-powered-forecasting#about-the-forecasting-algorithm)\n",
    "\n"
   ]
  },
  {
   "cell_type": "markdown",
   "metadata": {
    "application/vnd.databricks.v1+cell": {
     "cellMetadata": {
      "byteLimit": 2048000,
      "rowLimit": 10000
     },
     "inputWidgets": {},
     "nuid": "69c22f9d-baf2-4e00-baf2-6e0a03dcbbd1",
     "showTitle": false,
     "title": ""
    }
   },
   "source": [
    "Here's a short video presenting [Snowflake ML Powered Functions: Forecasting, Anomaly Detection, Contribution Explorer](https://www.youtube.com/watch?v=8WgVTf3im7w)\n",
    "\n",
    "Check out the code at: [https://github.com/Snowflake-Labs/sf-...](https://www.youtube.com/redirect?event=video_description&redir_token=QUFFLUhqbUZVS1dBWGhmYlVJUEt4MUsyWlY1VzVNbHVTUXxBQ3Jtc0ttaURLdms3dE4xeHZuVHVtVmlOZmxOQWRiOXA4RjNweWJuRTBSSkJkMnhxVUJseFhNdnBZQkZVbEVnWGdBbnFsODZ6TlZkeV9wSmo1NzhtbUZnOTdfYWE2czRjSnBmRTNkYWZpRm5lckxTay1lTi1Edw&q=https%3A%2F%2Fgithub.com%2FSnowflake-Labs%2Fsf-samples%2Fblob%2Fmain%2Fsamples%2FML%2520Powered%2520Functions%2FJune%25202023%2520MLPF%2520Demos.sql&v=8WgVTf3im7w)\n",
    "\n",
    "\n",
    "\n"
   ]
  },
  {
   "cell_type": "code",
   "execution_count": 0,
   "metadata": {
    "application/vnd.databricks.v1+cell": {
     "cellMetadata": {
      "byteLimit": 2048000,
      "rowLimit": 10000
     },
     "inputWidgets": {},
     "nuid": "bc65988a-c740-4388-931d-6c2bea85b44d",
     "showTitle": false,
     "title": ""
    }
   },
   "outputs": [
    {
     "output_type": "execute_result",
     "data": {
      "text/plain": [
       "[Row(TIMESTAMP=datetime.datetime(2023, 5, 6, 0, 0), PRIMARY_CITY='Vancouver', MENU_ITEM_NAME='Mothers Favorite', TOTAL_SOLD=20),\n",
       " Row(TIMESTAMP=datetime.datetime(2023, 5, 8, 0, 0), PRIMARY_CITY='Vancouver', MENU_ITEM_NAME='Bottled Soda', TOTAL_SOLD=165),\n",
       " Row(TIMESTAMP=datetime.datetime(2023, 5, 4, 0, 0), PRIMARY_CITY='Vancouver', MENU_ITEM_NAME='Ice Tea', TOTAL_SOLD=189),\n",
       " Row(TIMESTAMP=datetime.datetime(2023, 5, 14, 0, 0), PRIMARY_CITY='Vancouver', MENU_ITEM_NAME='Wonton Soup', TOTAL_SOLD=20),\n",
       " Row(TIMESTAMP=datetime.datetime(2023, 5, 14, 0, 0), PRIMARY_CITY='Vancouver', MENU_ITEM_NAME='Breakfast Crepe', TOTAL_SOLD=28),\n",
       " Row(TIMESTAMP=datetime.datetime(2023, 5, 5, 0, 0), PRIMARY_CITY='Vancouver', MENU_ITEM_NAME='Lean Burrito Bowl', TOTAL_SOLD=12),\n",
       " Row(TIMESTAMP=datetime.datetime(2023, 5, 2, 0, 0), PRIMARY_CITY='Vancouver', MENU_ITEM_NAME='The Classic', TOTAL_SOLD=15),\n",
       " Row(TIMESTAMP=datetime.datetime(2023, 5, 17, 0, 0), PRIMARY_CITY='Vancouver', MENU_ITEM_NAME='Buffalo Mac & Cheese', TOTAL_SOLD=15),\n",
       " Row(TIMESTAMP=datetime.datetime(2023, 5, 6, 0, 0), PRIMARY_CITY='Vancouver', MENU_ITEM_NAME='Veggie Burger', TOTAL_SOLD=31),\n",
       " Row(TIMESTAMP=datetime.datetime(2023, 5, 14, 0, 0), PRIMARY_CITY='Vancouver', MENU_ITEM_NAME='Better On Bread Sauce', TOTAL_SOLD=244)]"
      ]
     },
     "execution_count": 22,
     "metadata": {},
     "output_type": "execute_result"
    }
   ],
   "source": [
    "session.sql('SELECT * FROM SALES_FORECAST_INPUT LIMIT 10;').collect()"
   ]
  },
  {
   "cell_type": "code",
   "execution_count": 0,
   "metadata": {
    "application/vnd.databricks.v1+cell": {
     "cellMetadata": {
      "byteLimit": 2048000,
      "rowLimit": 10000
     },
     "inputWidgets": {},
     "nuid": "a5742af6-442f-4235-b7a2-eb316bc496ae",
     "showTitle": false,
     "title": ""
    }
   },
   "outputs": [
    {
     "output_type": "execute_result",
     "data": {
      "text/plain": [
       "[Row(status='View LOBSTER_SALES successfully created.')]"
      ]
     },
     "execution_count": 23,
     "metadata": {},
     "output_type": "execute_result"
    }
   ],
   "source": [
    "# Create view for lobster sales\n",
    "session.sql('''CREATE OR REPLACE VIEW lobster_sales AS (SELECT timestamp, total_sold \\\n",
    "            FROM SALES_FORECAST_INPUT \\\n",
    "            WHERE menu_item_name LIKE 'Lobster Mac & Cheese');''').collect()"
   ]
  },
  {
   "cell_type": "code",
   "execution_count": 0,
   "metadata": {
    "application/vnd.databricks.v1+cell": {
     "cellMetadata": {
      "byteLimit": 2048000,
      "rowLimit": 10000
     },
     "inputWidgets": {},
     "nuid": "53a50eb9-d568-4813-a52d-ac40ca76baa3",
     "showTitle": false,
     "title": ""
    }
   },
   "outputs": [
    {
     "output_type": "execute_result",
     "data": {
      "text/plain": [
       "[Row(status='Instance LOBSTERMAC_FORECAST successfully created.')]"
      ]
     },
     "execution_count": 24,
     "metadata": {},
     "output_type": "execute_result"
    }
   ],
   "source": [
    "# Create Cortex ML forecast called lobstermac_forecast\n",
    "session.sql('''CREATE OR REPLACE snowflake.ml.forecast lobstermac_forecast \\\n",
    "            (INPUT_DATA => SYSTEM$REFERENCE('VIEW', 'lobster_sales'), \\\n",
    "            TIMESTAMP_COLNAME => 'TIMESTAMP', \\\n",
    "            TARGET_COLNAME => 'TOTAL_SOLD');''').collect()"
   ]
  },
  {
   "cell_type": "code",
   "execution_count": 0,
   "metadata": {
    "application/vnd.databricks.v1+cell": {
     "cellMetadata": {
      "byteLimit": 2048000,
      "rowLimit": 10000
     },
     "inputWidgets": {},
     "nuid": "a20f063c-967f-4718-8f3b-f00644c5b047",
     "showTitle": false,
     "title": ""
    }
   },
   "outputs": [
    {
     "output_type": "execute_result",
     "data": {
      "text/html": [
       "<div>\n",
       "<style scoped>\n",
       "    .dataframe tbody tr th:only-of-type {\n",
       "        vertical-align: middle;\n",
       "    }\n",
       "\n",
       "    .dataframe tbody tr th {\n",
       "        vertical-align: top;\n",
       "    }\n",
       "\n",
       "    .dataframe thead th {\n",
       "        text-align: right;\n",
       "    }\n",
       "</style>\n",
       "<table border=\"1\" class=\"dataframe\">\n",
       "  <thead>\n",
       "    <tr style=\"text-align: right;\">\n",
       "      <th></th>\n",
       "      <th>created_on</th>\n",
       "      <th>name</th>\n",
       "      <th>database_name</th>\n",
       "      <th>schema_name</th>\n",
       "      <th>current_version</th>\n",
       "      <th>comment</th>\n",
       "      <th>owner</th>\n",
       "      <th>owner_role_type</th>\n",
       "    </tr>\n",
       "  </thead>\n",
       "  <tbody>\n",
       "    <tr>\n",
       "      <th>0</th>\n",
       "      <td>2024-05-23 05:38:14.648000-07:00</td>\n",
       "      <td>LOBSTERMAC_FORECAST</td>\n",
       "      <td>HOL</td>\n",
       "      <td>SCHEMA1</td>\n",
       "      <td>12.0</td>\n",
       "      <td>None</td>\n",
       "      <td>ROLE1</td>\n",
       "      <td>ROLE</td>\n",
       "    </tr>\n",
       "  </tbody>\n",
       "</table>\n",
       "</div>"
      ],
      "text/plain": [
       "                        created_on                 name  ...  owner owner_role_type\n",
       "0 2024-05-23 05:38:14.648000-07:00  LOBSTERMAC_FORECAST  ...  ROLE1            ROLE\n",
       "\n",
       "[1 rows x 8 columns]"
      ]
     },
     "execution_count": 25,
     "metadata": {},
     "output_type": "execute_result"
    }
   ],
   "source": [
    "# Show models to confirm training has completed: \n",
    "forecast = session.sql('SHOW snowflake.ml.forecast;')\n",
    "#forecast.show()\n",
    "forecast.limit(100).to_pandas().head()"
   ]
  },
  {
   "cell_type": "markdown",
   "metadata": {
    "application/vnd.databricks.v1+cell": {
     "cellMetadata": {
      "byteLimit": 2048000,
      "rowLimit": 10000
     },
     "inputWidgets": {},
     "nuid": "53ffd6c2-fdcc-4d96-a2fd-9d8fd11f9b5f",
     "showTitle": false,
     "title": ""
    }
   },
   "source": [
    "# Part 3 - Use Snowpark to train a model\n",
    "\n",
    "![Part3.png](files/shared_uploads/joe.jordan@snowflake.com/assets/Part3.png)\n"
   ]
  },
  {
   "cell_type": "markdown",
   "metadata": {
    "application/vnd.databricks.v1+cell": {
     "cellMetadata": {
      "byteLimit": 2048000,
      "rowLimit": 10000
     },
     "inputWidgets": {},
     "nuid": "b35c22a4-92f6-4018-a27e-acd50c228b32",
     "showTitle": false,
     "title": ""
    }
   },
   "source": [
    "![model_training.png](files/shared_uploads/joe.jordan@snowflake.com/assets/model_training.png)\n"
   ]
  },
  {
   "cell_type": "markdown",
   "metadata": {
    "application/vnd.databricks.v1+cell": {
     "cellMetadata": {
      "byteLimit": 2048000,
      "rowLimit": 10000
     },
     "inputWidgets": {},
     "nuid": "ecbc285c-5917-4d6e-8762-9e44f0e04f2e",
     "showTitle": false,
     "title": ""
    }
   },
   "source": [
    "## Drop Columns\n",
    "\n",
    "Let's return to the original prepared table, with all cities listed, and drop columns that will not be used in the model.\n",
    "\n"
   ]
  },
  {
   "cell_type": "code",
   "execution_count": 0,
   "metadata": {
    "application/vnd.databricks.v1+cell": {
     "cellMetadata": {
      "byteLimit": 2048000,
      "rowLimit": 10000
     },
     "inputWidgets": {},
     "nuid": "0afe9188-38b4-487f-befa-d0ca4985ef6c",
     "showTitle": false,
     "title": ""
    }
   },
   "outputs": [
    {
     "output_type": "execute_result",
     "data": {
      "text/html": [
       "<div>\n",
       "<style scoped>\n",
       "    .dataframe tbody tr th:only-of-type {\n",
       "        vertical-align: middle;\n",
       "    }\n",
       "\n",
       "    .dataframe tbody tr th {\n",
       "        vertical-align: top;\n",
       "    }\n",
       "\n",
       "    .dataframe thead th {\n",
       "        text-align: right;\n",
       "    }\n",
       "</style>\n",
       "<table border=\"1\" class=\"dataframe\">\n",
       "  <thead>\n",
       "    <tr style=\"text-align: right;\">\n",
       "      <th></th>\n",
       "      <th>SHIFT_OE</th>\n",
       "      <th>CITY_POPULATION_NORM</th>\n",
       "      <th>SHIFT_SALES</th>\n",
       "      <th>MONTH</th>\n",
       "      <th>DAY_OF_WEEK</th>\n",
       "      <th>LATITUDE</th>\n",
       "      <th>LONGITUDE</th>\n",
       "      <th>AVG_LOCATION_SHIFT_SALES</th>\n",
       "    </tr>\n",
       "  </thead>\n",
       "  <tbody>\n",
       "    <tr>\n",
       "      <th>0</th>\n",
       "      <td>0.0</td>\n",
       "      <td>0.315528</td>\n",
       "      <td>1473.08</td>\n",
       "      <td>1</td>\n",
       "      <td>6</td>\n",
       "      <td>-33.866793</td>\n",
       "      <td>151.206949</td>\n",
       "      <td>0.000000</td>\n",
       "    </tr>\n",
       "    <tr>\n",
       "      <th>1</th>\n",
       "      <td>0.0</td>\n",
       "      <td>0.315528</td>\n",
       "      <td>329.22</td>\n",
       "      <td>10</td>\n",
       "      <td>2</td>\n",
       "      <td>-33.866793</td>\n",
       "      <td>151.206949</td>\n",
       "      <td>1473.080000</td>\n",
       "    </tr>\n",
       "    <tr>\n",
       "      <th>2</th>\n",
       "      <td>0.0</td>\n",
       "      <td>0.315528</td>\n",
       "      <td>515.36</td>\n",
       "      <td>11</td>\n",
       "      <td>4</td>\n",
       "      <td>-33.866793</td>\n",
       "      <td>151.206949</td>\n",
       "      <td>901.150000</td>\n",
       "    </tr>\n",
       "    <tr>\n",
       "      <th>3</th>\n",
       "      <td>0.0</td>\n",
       "      <td>0.315528</td>\n",
       "      <td>523.88</td>\n",
       "      <td>11</td>\n",
       "      <td>5</td>\n",
       "      <td>-33.866793</td>\n",
       "      <td>151.206949</td>\n",
       "      <td>772.553333</td>\n",
       "    </tr>\n",
       "    <tr>\n",
       "      <th>4</th>\n",
       "      <td>0.0</td>\n",
       "      <td>0.315528</td>\n",
       "      <td>619.15</td>\n",
       "      <td>1</td>\n",
       "      <td>6</td>\n",
       "      <td>-33.866793</td>\n",
       "      <td>151.206949</td>\n",
       "      <td>710.385000</td>\n",
       "    </tr>\n",
       "  </tbody>\n",
       "</table>\n",
       "</div>"
      ],
      "text/plain": [
       "   SHIFT_OE  CITY_POPULATION_NORM  ...   LONGITUDE  AVG_LOCATION_SHIFT_SALES\n",
       "0       0.0              0.315528  ...  151.206949                  0.000000\n",
       "1       0.0              0.315528  ...  151.206949               1473.080000\n",
       "2       0.0              0.315528  ...  151.206949                901.150000\n",
       "3       0.0              0.315528  ...  151.206949                772.553333\n",
       "4       0.0              0.315528  ...  151.206949                710.385000\n",
       "\n",
       "[5 rows x 8 columns]"
      ]
     },
     "execution_count": 26,
     "metadata": {},
     "output_type": "execute_result"
    }
   ],
   "source": [
    "prepared_df = historical_df.drop(\"location_id\", \"city_population\", \"shift\", \"city\", \"date\")\n",
    "#prepared_df.show()\n",
    "prepared_df.limit(100).to_pandas().head()"
   ]
  },
  {
   "cell_type": "markdown",
   "metadata": {
    "application/vnd.databricks.v1+cell": {
     "cellMetadata": {
      "byteLimit": 2048000,
      "rowLimit": 10000
     },
     "inputWidgets": {},
     "nuid": "af74d32c-c0da-4911-bb4c-bd8dfb7bb0d0",
     "showTitle": false,
     "title": ""
    }
   },
   "source": [
    "## Build a simple XGBoost Regression Model on Snowflake\n",
    "\n",
    "We will now use our training data to train a linear regression model on Snowflake.Recall from above, the two main ways that Snowpark works:\n",
    "\n",
    "1. Snowpark code translated and executed as SQL on Snowflake\n",
    "2. Python functions deployed in a secure sandbox in Snowflake\n",
    "\n",
    "We will be leveraging the deployment of Python functions into Snowflake for training and model deployment.\n",
    "\n"
   ]
  },
  {
   "cell_type": "code",
   "execution_count": 0,
   "metadata": {
    "application/vnd.databricks.v1+cell": {
     "cellMetadata": {
      "byteLimit": 2048000,
      "rowLimit": 10000
     },
     "inputWidgets": {},
     "nuid": "16ac31c6-b66d-4579-b706-63a74265d361",
     "showTitle": false,
     "title": ""
    }
   },
   "outputs": [
    {
     "output_type": "execute_result",
     "data": {
      "text/plain": [
       "['SHIFT_OE',\n",
       " 'CITY_POPULATION_NORM',\n",
       " 'SHIFT_SALES',\n",
       " 'MONTH',\n",
       " 'DAY_OF_WEEK',\n",
       " 'LATITUDE',\n",
       " 'LONGITUDE',\n",
       " 'AVG_LOCATION_SHIFT_SALES']"
      ]
     },
     "execution_count": 27,
     "metadata": {},
     "output_type": "execute_result"
    }
   ],
   "source": [
    "# Retrieve column names needed in the next code block to populate feature_column_names\n",
    "prepared_df.columns"
   ]
  },
  {
   "cell_type": "code",
   "execution_count": 0,
   "metadata": {
    "application/vnd.databricks.v1+cell": {
     "cellMetadata": {
      "byteLimit": 2048000,
      "rowLimit": 10000
     },
     "inputWidgets": {},
     "nuid": "7295991d-e92d-47d7-8238-7cae0eb51318",
     "showTitle": false,
     "title": ""
    }
   },
   "outputs": [
    {
     "output_type": "execute_result",
     "data": {
      "text/html": [
       "<div>\n",
       "<style scoped>\n",
       "    .dataframe tbody tr th:only-of-type {\n",
       "        vertical-align: middle;\n",
       "    }\n",
       "\n",
       "    .dataframe tbody tr th {\n",
       "        vertical-align: top;\n",
       "    }\n",
       "\n",
       "    .dataframe thead th {\n",
       "        text-align: right;\n",
       "    }\n",
       "</style>\n",
       "<table border=\"1\" class=\"dataframe\">\n",
       "  <thead>\n",
       "    <tr style=\"text-align: right;\">\n",
       "      <th></th>\n",
       "      <th>SHIFT_SALES</th>\n",
       "      <th>SHIFT_OE</th>\n",
       "      <th>CITY_POPULATION_NORM</th>\n",
       "      <th>MONTH</th>\n",
       "      <th>DAY_OF_WEEK</th>\n",
       "      <th>LATITUDE</th>\n",
       "      <th>LONGITUDE</th>\n",
       "      <th>AVG_LOCATION_SHIFT_SALES</th>\n",
       "    </tr>\n",
       "  </thead>\n",
       "  <tbody>\n",
       "    <tr>\n",
       "      <th>0</th>\n",
       "      <td>405.72</td>\n",
       "      <td>1.0</td>\n",
       "      <td>0.535486</td>\n",
       "      <td>6</td>\n",
       "      <td>2</td>\n",
       "      <td>40.838073</td>\n",
       "      <td>-73.941439</td>\n",
       "      <td>0.00</td>\n",
       "    </tr>\n",
       "    <tr>\n",
       "      <th>1</th>\n",
       "      <td>476.68</td>\n",
       "      <td>1.0</td>\n",
       "      <td>0.535486</td>\n",
       "      <td>8</td>\n",
       "      <td>1</td>\n",
       "      <td>40.838073</td>\n",
       "      <td>-73.941439</td>\n",
       "      <td>405.72</td>\n",
       "    </tr>\n",
       "    <tr>\n",
       "      <th>2</th>\n",
       "      <td>473.60</td>\n",
       "      <td>1.0</td>\n",
       "      <td>0.535486</td>\n",
       "      <td>9</td>\n",
       "      <td>5</td>\n",
       "      <td>40.838073</td>\n",
       "      <td>-73.941439</td>\n",
       "      <td>441.20</td>\n",
       "    </tr>\n",
       "    <tr>\n",
       "      <th>3</th>\n",
       "      <td>466.76</td>\n",
       "      <td>1.0</td>\n",
       "      <td>0.535486</td>\n",
       "      <td>9</td>\n",
       "      <td>2</td>\n",
       "      <td>40.838073</td>\n",
       "      <td>-73.941439</td>\n",
       "      <td>452.00</td>\n",
       "    </tr>\n",
       "    <tr>\n",
       "      <th>4</th>\n",
       "      <td>666.55</td>\n",
       "      <td>1.0</td>\n",
       "      <td>0.535486</td>\n",
       "      <td>12</td>\n",
       "      <td>0</td>\n",
       "      <td>40.838073</td>\n",
       "      <td>-73.941439</td>\n",
       "      <td>455.69</td>\n",
       "    </tr>\n",
       "  </tbody>\n",
       "</table>\n",
       "</div>"
      ],
      "text/plain": [
       "   SHIFT_SALES  SHIFT_OE  ...  LONGITUDE  AVG_LOCATION_SHIFT_SALES\n",
       "0       405.72       1.0  ... -73.941439                      0.00\n",
       "1       476.68       1.0  ... -73.941439                    405.72\n",
       "2       473.60       1.0  ... -73.941439                    441.20\n",
       "3       466.76       1.0  ... -73.941439                    452.00\n",
       "4       666.55       1.0  ... -73.941439                    455.69\n",
       "\n",
       "[5 rows x 8 columns]"
      ]
     },
     "execution_count": 28,
     "metadata": {},
     "output_type": "execute_result"
    }
   ],
   "source": [
    "# Let's define relevant features needed for the prediction model.\n",
    "LABEL_COLUMNS = [\"SHIFT_SALES\"]\n",
    "OUTPUT_COLUMNS = [\"PRED_SHIFT_SALES\"]\n",
    "FEATURE_COLUMN_NAMES = [\"SHIFT_OE\", \"CITY_POPULATION_NORM\", \"MONTH\", \"DAY_OF_WEEK\",\"LATITUDE\",\"LONGITUDE\",\"AVG_LOCATION_SHIFT_SALES\"]\n",
    "\n",
    "input_df = prepared_df.select(*LABEL_COLUMNS, *FEATURE_COLUMN_NAMES)\n",
    "#input_df.show()\n",
    "input_df.limit(100).to_pandas().head()"
   ]
  },
  {
   "cell_type": "markdown",
   "metadata": {
    "application/vnd.databricks.v1+cell": {
     "cellMetadata": {
      "byteLimit": 2048000,
      "rowLimit": 10000
     },
     "inputWidgets": {},
     "nuid": "0771bac1-9253-4ec9-9e10-d42a7d8a0f88",
     "showTitle": false,
     "title": ""
    }
   },
   "source": [
    "SnowparkML also includes metric calculations such as correlations, and more. We will use the SnowparkML correlation method on our input dataframe to identify any linearly correlated features to the output. We'll also use matplotlib to plot the resulting matrix. Notice that all of the correlation calculations are pushed down to Snowflake!\n",
    "\n"
   ]
  },
  {
   "cell_type": "code",
   "execution_count": 0,
   "metadata": {
    "application/vnd.databricks.v1+cell": {
     "cellMetadata": {
      "byteLimit": 2048000,
      "rowLimit": 10000
     },
     "inputWidgets": {},
     "nuid": "2009f53f-7235-4519-bb6c-b89cba2f7727",
     "showTitle": false,
     "title": ""
    }
   },
   "outputs": [],
   "source": [
    "import matplotlib.pyplot as plt\n",
    "import seaborn as sns\n",
    "from snowflake.ml.modeling.metrics.correlation import correlation\n",
    "corr_df = correlation(df=input_df)"
   ]
  },
  {
   "cell_type": "code",
   "execution_count": 0,
   "metadata": {
    "application/vnd.databricks.v1+cell": {
     "cellMetadata": {
      "byteLimit": 2048000,
      "rowLimit": 10000
     },
     "inputWidgets": {},
     "nuid": "17ca1d7a-ddf3-4c9a-8153-7f28ba5712d7",
     "showTitle": false,
     "title": ""
    }
   },
   "outputs": [
    {
     "output_type": "execute_result",
     "data": {
      "text/plain": [
       "<Axes: >"
      ]
     },
     "execution_count": 30,
     "metadata": {},
     "output_type": "execute_result"
    },
    {
     "output_type": "display_data",
     "data": {
      "image/png": "[encoded data removed]",
      "text/plain": [
       "<Figure size 640x480 with 2 Axes>"
      ]
     },
     "metadata": {},
     "output_type": "display_data"
    }
   ],
   "source": [
    "# Return only the correlation summary results to generate this heatmap\n",
    "sns.heatmap(corr_df, cmap=\"YlGnBu\", annot=True)"
   ]
  },
  {
   "cell_type": "markdown",
   "metadata": {
    "application/vnd.databricks.v1+cell": {
     "cellMetadata": {
      "byteLimit": 2048000,
      "rowLimit": 10000
     },
     "inputWidgets": {},
     "nuid": "85076746-3d54-4a07-aca6-e82e50fcbe2a",
     "showTitle": false,
     "title": ""
    }
   },
   "source": [
    "What's great about this, is that we are using a lot of Snowpark components under the hood- the dataframe API, SQL, Python stored procedures and more. But with the new SnowparkML API, data scientists can take advantage of all that Snowpark affords them, while using common, familiar APIs that match how they do their work today.\n",
    "\n",
    "Now that we have our feature data, let's actually fit an XGBoost model to our features to attempt to predict future sales. We'll fit several different models with different hyperparameters, and then show how we can use the Snowpark Model Registry to select our best-fit model.\n",
    "\n"
   ]
  },
  {
   "cell_type": "code",
   "execution_count": 0,
   "metadata": {
    "application/vnd.databricks.v1+cell": {
     "cellMetadata": {
      "byteLimit": 2048000,
      "rowLimit": 10000
     },
     "inputWidgets": {},
     "nuid": "43d79181-e639-4f51-b949-10384631bfb5",
     "showTitle": false,
     "title": ""
    }
   },
   "outputs": [],
   "source": [
    "# Split the data into train and test sets\n",
    "train_df, test_df = input_df.random_split(weights=[0.9, 0.1], seed=98)"
   ]
  },
  {
   "cell_type": "markdown",
   "metadata": {
    "application/vnd.databricks.v1+cell": {
     "cellMetadata": {
      "byteLimit": 2048000,
      "rowLimit": 10000
     },
     "inputWidgets": {},
     "nuid": "6d328957-d726-4445-a7e1-1e0414892727",
     "showTitle": false,
     "title": ""
    }
   },
   "source": [
    "## What's happening when you leverage Snowpark ML Modeling API?\n",
    "\n",
    "Let's run our training job using the SnowparkML Modeling API- this will push down our model training to run on Snowflake, and you'll notice that the type of the model object returend is a SnowparkML XGBClassifier- this has some benefits, but also is fully compatible with the standard sklearn/xgboost model objects.\n",
    "\n",
    "- The model.fit() function actually creates a temporary stored procedure in the background. This also means that the model training is a single-node operation. Be sure to use a Snowpark Optimized Warehouse if you need more memory. We are just using an XS Standard Virtual Warehouse here, which we created at the beginning of this quickstart.\n",
    "- The model.predict() function actually creates a temporary vectorized UDF in the background, which means the input DataFrame is batched as Pandas DataFrames and inference is parallelized across the batches of data. You can check the query history once you execute the following cell to check.\n",
    "\n",
    "![Snowpark_ML_API.png](files/shared_uploads/joe.jordan@snowflake.com/assets/Snowpark_ML_API.png)\n"
   ]
  },
  {
   "cell_type": "code",
   "execution_count": 0,
   "metadata": {
    "application/vnd.databricks.v1+cell": {
     "cellMetadata": {
      "byteLimit": 2048000,
      "rowLimit": 10000
     },
     "inputWidgets": {},
     "nuid": "958ae17d-932b-4779-a0fb-6a836026ec42",
     "showTitle": false,
     "title": ""
    }
   },
   "outputs": [
    {
     "output_type": "stream",
     "name": "stderr",
     "output_type": "stream",
     "text": [
      "The version of package 'snowflake-snowpark-python' in the local environment is 1.17.0, which does not fit the criteria for the requirement 'snowflake-snowpark-python'. Your UDF might not work when the package version is different between the server and your local environment.\n"
     ]
    }
   ],
   "source": [
    "from snowflake.ml.modeling.xgboost import XGBRegressor\n",
    "# Define the XGBRegressor\n",
    "regressor = XGBRegressor(\n",
    "    label_cols = LABEL_COLUMNS,\n",
    "    input_cols = FEATURE_COLUMN_NAMES,\n",
    "    output_cols = OUTPUT_COLUMNS\n",
    ")\n",
    "\n",
    "# Train\n",
    "regressor.fit(train_df)\n",
    "\n",
    "# Predict\n",
    "result = regressor.predict(test_df)"
   ]
  },
  {
   "cell_type": "code",
   "execution_count": 0,
   "metadata": {
    "application/vnd.databricks.v1+cell": {
     "cellMetadata": {
      "byteLimit": 2048000,
      "rowLimit": 10000
     },
     "inputWidgets": {},
     "nuid": "e4b453f2-8b35-4024-9547-405e35cab305",
     "showTitle": false,
     "title": ""
    }
   },
   "outputs": [
    {
     "output_type": "execute_result",
     "data": {
      "text/plain": [
       "<snowflake.snowpark.dataframe.DataFrame at 0x7f738ebdf7f0>"
      ]
     },
     "execution_count": 33,
     "metadata": {},
     "output_type": "execute_result"
    }
   ],
   "source": [
    "# Just to illustrate, we can also pass in a Pandas DataFrame to Snowpark ML's model.predict()\n",
    "regressor.predict(test_df.to_pandas())\n",
    "# try \n",
    "regressor.predict(test_df)"
   ]
  },
  {
   "cell_type": "code",
   "execution_count": 0,
   "metadata": {
    "application/vnd.databricks.v1+cell": {
     "cellMetadata": {
      "byteLimit": 2048000,
      "rowLimit": 10000
     },
     "inputWidgets": {},
     "nuid": "33f8f5e2-9db1-431d-8bac-18a3aa11cdc9",
     "showTitle": false,
     "title": ""
    }
   },
   "outputs": [
    {
     "output_type": "execute_result",
     "data": {
      "text/html": [
       "<div>\n",
       "<style scoped>\n",
       "    .dataframe tbody tr th:only-of-type {\n",
       "        vertical-align: middle;\n",
       "    }\n",
       "\n",
       "    .dataframe tbody tr th {\n",
       "        vertical-align: top;\n",
       "    }\n",
       "\n",
       "    .dataframe thead th {\n",
       "        text-align: right;\n",
       "    }\n",
       "</style>\n",
       "<table border=\"1\" class=\"dataframe\">\n",
       "  <thead>\n",
       "    <tr style=\"text-align: right;\">\n",
       "      <th></th>\n",
       "      <th>SHIFT_SALES</th>\n",
       "      <th>SHIFT_OE</th>\n",
       "      <th>CITY_POPULATION_NORM</th>\n",
       "      <th>MONTH</th>\n",
       "      <th>DAY_OF_WEEK</th>\n",
       "      <th>LATITUDE</th>\n",
       "      <th>LONGITUDE</th>\n",
       "      <th>AVG_LOCATION_SHIFT_SALES</th>\n",
       "    </tr>\n",
       "  </thead>\n",
       "  <tbody>\n",
       "    <tr>\n",
       "      <th>0</th>\n",
       "      <td>394.74</td>\n",
       "      <td>1.0</td>\n",
       "      <td>0.053749</td>\n",
       "      <td>6</td>\n",
       "      <td>1</td>\n",
       "      <td>59.347220</td>\n",
       "      <td>18.101904</td>\n",
       "      <td>261.239167</td>\n",
       "    </tr>\n",
       "    <tr>\n",
       "      <th>1</th>\n",
       "      <td>311.64</td>\n",
       "      <td>1.0</td>\n",
       "      <td>0.053749</td>\n",
       "      <td>6</td>\n",
       "      <td>1</td>\n",
       "      <td>59.347220</td>\n",
       "      <td>18.101904</td>\n",
       "      <td>305.115909</td>\n",
       "    </tr>\n",
       "    <tr>\n",
       "      <th>2</th>\n",
       "      <td>276.55</td>\n",
       "      <td>1.0</td>\n",
       "      <td>0.053749</td>\n",
       "      <td>6</td>\n",
       "      <td>3</td>\n",
       "      <td>59.347220</td>\n",
       "      <td>18.101904</td>\n",
       "      <td>305.399565</td>\n",
       "    </tr>\n",
       "    <tr>\n",
       "      <th>3</th>\n",
       "      <td>618.17</td>\n",
       "      <td>1.0</td>\n",
       "      <td>0.053749</td>\n",
       "      <td>6</td>\n",
       "      <td>1</td>\n",
       "      <td>59.347220</td>\n",
       "      <td>18.101904</td>\n",
       "      <td>313.069375</td>\n",
       "    </tr>\n",
       "    <tr>\n",
       "      <th>4</th>\n",
       "      <td>901.29</td>\n",
       "      <td>0.0</td>\n",
       "      <td>0.225548</td>\n",
       "      <td>4</td>\n",
       "      <td>3</td>\n",
       "      <td>52.501136</td>\n",
       "      <td>13.302495</td>\n",
       "      <td>502.440000</td>\n",
       "    </tr>\n",
       "  </tbody>\n",
       "</table>\n",
       "</div>"
      ],
      "text/plain": [
       "   SHIFT_SALES  SHIFT_OE  ...  LONGITUDE  AVG_LOCATION_SHIFT_SALES\n",
       "0       394.74       1.0  ...  18.101904                261.239167\n",
       "1       311.64       1.0  ...  18.101904                305.115909\n",
       "2       276.55       1.0  ...  18.101904                305.399565\n",
       "3       618.17       1.0  ...  18.101904                313.069375\n",
       "4       901.29       0.0  ...  13.302495                502.440000\n",
       "\n",
       "[5 rows x 8 columns]"
      ]
     },
     "execution_count": 34,
     "metadata": {},
     "output_type": "execute_result"
    }
   ],
   "source": [
    "test_df.limit(10).to_pandas().head()"
   ]
  },
  {
   "cell_type": "markdown",
   "metadata": {
    "application/vnd.databricks.v1+cell": {
     "cellMetadata": {
      "byteLimit": 2048000,
      "rowLimit": 10000
     },
     "inputWidgets": {},
     "nuid": "f2cf604e-9202-4dac-ade0-6fc4d4e1c169",
     "showTitle": false,
     "title": ""
    }
   },
   "source": [
    "Let's analyze the results using Snowpark ML's MAPE.\n",
    "\n"
   ]
  },
  {
   "cell_type": "code",
   "execution_count": 0,
   "metadata": {
    "application/vnd.databricks.v1+cell": {
     "cellMetadata": {
      "byteLimit": 2048000,
      "rowLimit": 10000
     },
     "inputWidgets": {},
     "nuid": "4576cba4-afc5-4ab9-aafd-38f969e7782a",
     "showTitle": false,
     "title": ""
    }
   },
   "outputs": [
    {
     "output_type": "stream",
     "name": "stdout",
     "output_type": "stream",
     "text": [
      "--------------------------------------\n|\"SHIFT_SALES\"  |\"PRED_SHIFT_SALES\"  |\n--------------------------------------\n|394.74         |245.19151306152344  |\n|311.64         |289.1174621582031   |\n|276.55         |331.7347412109375   |\n|618.17         |289.1174621582031   |\n|901.29         |680.1103515625      |\n|261.89         |739.5217895507812   |\n|779.83         |952.1456909179688   |\n|1150.8         |936.9378662109375   |\n|1543.25        |1053.4215087890625  |\n|599.07         |1019.264404296875   |\n--------------------------------------\n\nMean absolute percentage error: 0.38014297231282707\nMean squared error: 59543.087155082205\n"
     ]
    }
   ],
   "source": [
    "# Use Snowpark ML metrics to calculate\n",
    "from snowflake.ml.modeling.metrics import mean_absolute_percentage_error, mean_squared_error\n",
    "\n",
    "# Predict\n",
    "results = regressor.predict(test_df)\n",
    "\n",
    "# Calculate MAPE\n",
    "mape = mean_absolute_percentage_error(df=results, y_true_col_names=LABEL_COLUMNS, y_pred_col_names=OUTPUT_COLUMNS)\n",
    "\n",
    "# Calculate MSE\n",
    "mse = mean_squared_error(df=results, y_true_col_names=LABEL_COLUMNS, y_pred_col_names=OUTPUT_COLUMNS)\n",
    "\n",
    "results.select([*LABEL_COLUMNS, *OUTPUT_COLUMNS]).show()\n",
    "print(f'''Mean absolute percentage error: {mape}''')\n",
    "print(f'''Mean squared error: {mse}''')"
   ]
  },
  {
   "cell_type": "code",
   "execution_count": 0,
   "metadata": {
    "application/vnd.databricks.v1+cell": {
     "cellMetadata": {
      "byteLimit": 2048000,
      "rowLimit": 10000
     },
     "inputWidgets": {},
     "nuid": "d55bac1a-9851-4ad9-839c-6a5a38bddbb0",
     "showTitle": false,
     "title": ""
    }
   },
   "outputs": [
    {
     "output_type": "display_data",
     "data": {
      "image/png": "[encoded data removed]",
      "text/plain": [
       "<Figure size 500x500 with 1 Axes>"
      ]
     },
     "metadata": {},
     "output_type": "display_data"
    }
   ],
   "source": [
    "# Plot actual vs predicted \n",
    "g = sns.relplot(data=results[\"SHIFT_SALES\", \"PRED_SHIFT_SALES\"].to_pandas().astype(\"float64\"), x=\"SHIFT_SALES\", y=\"PRED_SHIFT_SALES\", kind=\"scatter\")\n",
    "g.ax.axline((0,0), slope=1, color=\"r\")\n",
    "\n",
    "plt.show()"
   ]
  },
  {
   "cell_type": "markdown",
   "metadata": {
    "application/vnd.databricks.v1+cell": {
     "cellMetadata": {
      "byteLimit": 2048000,
      "rowLimit": 10000
     },
     "inputWidgets": {},
     "nuid": "d0b45bef-01c8-41fc-9e8e-e325e2cbf91d",
     "showTitle": false,
     "title": ""
    }
   },
   "source": [
    "## Snowpark ML's GridSearchCV()\n",
    "\n",
    "Now, let's use Snowpark ML's GridSearchCV() function to find optimal model parameters.\n",
    "\n"
   ]
  },
  {
   "cell_type": "code",
   "execution_count": 0,
   "metadata": {
    "application/vnd.databricks.v1+cell": {
     "cellMetadata": {
      "byteLimit": 2048000,
      "rowLimit": 10000
     },
     "inputWidgets": {},
     "nuid": "1bd6b568-b7aa-484b-81f5-fbb98a9de9ec",
     "showTitle": false,
     "title": ""
    }
   },
   "outputs": [
    {
     "output_type": "stream",
     "name": "stderr",
     "output_type": "stream",
     "text": [
      "The version of package 'snowflake-snowpark-python' in the local environment is 1.17.0, which does not fit the criteria for the requirement 'snowflake-snowpark-python<2'. Your UDF might not work when the package version is different between the server and your local environment.\nPackage 'fastparquet' is not installed in the local environment. Your UDF might not work when the package is installed on the server but not on your local environment.\n"
     ]
    },
    {
     "output_type": "execute_result",
     "data": {
      "text/plain": [
       "<snowflake.ml.modeling.model_selection.grid_search_cv.GridSearchCV at 0x7f7390d16ef0>"
      ]
     },
     "execution_count": 37,
     "metadata": {},
     "output_type": "execute_result"
    }
   ],
   "source": [
    "from snowflake.ml.modeling.model_selection import GridSearchCV\n",
    "\n",
    "grid_search = GridSearchCV(\n",
    "estimator=XGBRegressor(),\n",
    "param_grid={\n",
    "\"n_estimators\":[25, 50],\n",
    "\"learning_rate\":[0.4, 0.5],\n",
    "},\n",
    "n_jobs = -1,\n",
    "scoring=\"neg_mean_absolute_percentage_error\",\n",
    "input_cols=FEATURE_COLUMN_NAMES,\n",
    "label_cols=LABEL_COLUMNS,\n",
    "output_cols=OUTPUT_COLUMNS\n",
    ")\n",
    "\n",
    "\n",
    "# Train\n",
    "grid_search.fit(train_df)"
   ]
  },
  {
   "cell_type": "code",
   "execution_count": 0,
   "metadata": {
    "application/vnd.databricks.v1+cell": {
     "cellMetadata": {
      "byteLimit": 2048000,
      "rowLimit": 10000
     },
     "inputWidgets": {},
     "nuid": "b5012ea1-e121-4753-a0b1-28a191654a8a",
     "showTitle": false,
     "title": ""
    }
   },
   "outputs": [
    {
     "output_type": "display_data",
     "data": {
      "image/png": "[encoded data removed]",
      "text/plain": [
       "<Figure size 600.861x500 with 1 Axes>"
      ]
     },
     "metadata": {},
     "output_type": "display_data"
    }
   ],
   "source": [
    "# Let's analyze the grid_search results\n",
    "gs_results = grid_search.to_sklearn().cv_results_\n",
    "n_estimators_val = []\n",
    "learning_rate_val = []\n",
    "for param_dict in gs_results[\"params\"]:\n",
    "    n_estimators_val.append(param_dict[\"n_estimators\"])\n",
    "    learning_rate_val.append(param_dict[\"learning_rate\"])\n",
    "mape_val = gs_results[\"mean_test_score\"]*-1\n",
    "\n",
    "gs_results_df = pd.DataFrame(data={\n",
    "    \"n_estimators\":n_estimators_val,\n",
    "    \"learning_rate\":learning_rate_val,\n",
    "    \"mape\":mape_val})\n",
    "\n",
    "sns.relplot(data=gs_results_df, x=\"learning_rate\", y=\"mape\", hue=\"n_estimators\", kind=\"line\")\n",
    "\n",
    "plt.show()"
   ]
  },
  {
   "cell_type": "code",
   "execution_count": 0,
   "metadata": {
    "application/vnd.databricks.v1+cell": {
     "cellMetadata": {
      "byteLimit": 2048000,
      "rowLimit": 10000
     },
     "inputWidgets": {},
     "nuid": "8f85da00-93a4-457d-a7c6-d0191bd479a6",
     "showTitle": false,
     "title": ""
    }
   },
   "outputs": [],
   "source": [
    "# Let's save our optimal model and its metadata:\n",
    "optimal_model = grid_search.to_sklearn().best_estimator_\n",
    "optimal_n_estimators = grid_search.to_sklearn().best_estimator_.n_estimators\n",
    "optimal_learning_rate = grid_search.to_sklearn().best_estimator_.learning_rate\n",
    "\n",
    "\n",
    "optimal_mape = gs_results_df.loc[(gs_results_df['n_estimators']==optimal_n_estimators) &\n",
    "                        (gs_results_df['learning_rate']==optimal_learning_rate),'mape'].values[0]"
   ]
  },
  {
   "cell_type": "markdown",
   "metadata": {
    "application/vnd.databricks.v1+cell": {
     "cellMetadata": {
      "byteLimit": 2048000,
      "rowLimit": 10000
     },
     "inputWidgets": {},
     "nuid": "d7294a60-a424-4a84-81f7-2c0b42335336",
     "showTitle": false,
     "title": ""
    }
   },
   "source": [
    "## **Scale down your assigned Snowflake compute warehouse.**\n",
    "\n"
   ]
  },
  {
   "cell_type": "code",
   "execution_count": 0,
   "metadata": {
    "application/vnd.databricks.v1+cell": {
     "cellMetadata": {
      "byteLimit": 2048000,
      "rowLimit": 10000
     },
     "inputWidgets": {},
     "nuid": "c266ea54-9d98-4956-a2fb-dba3205a8b50",
     "showTitle": false,
     "title": ""
    }
   },
   "outputs": [
    {
     "output_type": "execute_result",
     "data": {
      "text/plain": [
       "[Row(status='Statement executed successfully.')]"
      ]
     },
     "execution_count": 40,
     "metadata": {},
     "output_type": "execute_result"
    }
   ],
   "source": [
    "# Decrease size of Snowflake compute warehouse to XSMALL\n",
    "session.sql(\"alter warehouse \" + warehouse + \" set warehouse_size = XSMALL\").collect()"
   ]
  },
  {
   "cell_type": "markdown",
   "metadata": {
    "application/vnd.databricks.v1+cell": {
     "cellMetadata": {
      "byteLimit": 2048000,
      "rowLimit": 10000
     },
     "inputWidgets": {},
     "nuid": "9eaaef25-bb6f-4422-95da-1168ecf81208",
     "showTitle": false,
     "title": ""
    }
   },
   "source": [
    "# Part 4 - Use Snowpark for MLOps\n",
    "\n",
    "![Part4.png](files/shared_uploads/joe.jordan@snowflake.com/assets/Part4.png)\n"
   ]
  },
  {
   "cell_type": "markdown",
   "metadata": {
    "application/vnd.databricks.v1+cell": {
     "cellMetadata": {
      "byteLimit": 2048000,
      "rowLimit": 10000
     },
     "inputWidgets": {},
     "nuid": "797dd8d5-55c0-46d0-b28c-65fba2b7ee7c",
     "showTitle": false,
     "title": ""
    }
   },
   "source": [
    "\n",
    "![model_deployment.png](files/shared_uploads/joe.jordan@snowflake.com/assets/model_deployment.png)\n"
   ]
  },
  {
   "cell_type": "markdown",
   "metadata": {
    "application/vnd.databricks.v1+cell": {
     "cellMetadata": {
      "byteLimit": 2048000,
      "rowLimit": 10000
     },
     "inputWidgets": {},
     "nuid": "d56c1a85-02a1-4c53-8485-50932ac052b7",
     "showTitle": false,
     "title": ""
    }
   },
   "source": [
    "## Now let's use Snowflake's ML Model Registry\n",
    "\n",
    "Model Registry was created to support model management operations including model registration, versioning, metadata and audit trails. Integrated deployment infrastructure for batch inference is a critical ease-of-use feature. Users can deploy ML models for batch inference from the registry directly into a Snowflake Warehouse as a vectorized UDF, or as a service to a customer-specified Compute Pool in Snowpark Container Services.\n",
    "\n",
    "Snowflake's Model Registry supports SciKitLearn, XGBoost, Pytorch, Tensorflow and MLFlow (via the pyfunc interface) models.\n",
    "\n",
    "![ModelRegistry.png](files/shared_uploads/joe.jordan@snowflake.com/assets/ModelRegistry.png)\n",
    "\n",
    "\n",
    "Model Registry allows easy deployment of pre-trained open-source models from providers such as HuggingFace. See this blog for more details: [https://medium.com/snowflake/whats-in-a-name-model-naming-versioning-in-snowpark-model-registry-b5f7105fd6f6](https://medium.com/snowflake/whats-in-a-name-model-naming-versioning-in-snowpark-model-registry-b5f7105fd6f6) or the Model Registry documentation: [https://docs.snowflake.com/LIMITEDACCESS/snowflake-ml-model-registry](https://docs.snowflake.com/LIMITEDACCESS/snowflake-ml-model-registry)\n",
    "\n"
   ]
  },
  {
   "cell_type": "markdown",
   "metadata": {
    "application/vnd.databricks.v1+cell": {
     "cellMetadata": {
      "byteLimit": 2048000,
      "rowLimit": 10000
     },
     "inputWidgets": {},
     "nuid": "8d471708-b301-42a3-a89d-65d4515bb9b8",
     "showTitle": false,
     "title": ""
    }
   },
   "source": [
    "## Create the Model Registry and register your model\n",
    "\n"
   ]
  },
  {
   "cell_type": "code",
   "execution_count": 0,
   "metadata": {
    "application/vnd.databricks.v1+cell": {
     "cellMetadata": {
      "byteLimit": 2048000,
      "rowLimit": 10000
     },
     "inputWidgets": {},
     "nuid": "ae803bc4-3168-4b4b-979b-3751abead26e",
     "showTitle": false,
     "title": ""
    }
   },
   "outputs": [],
   "source": [
    "from snowflake.ml.registry import Registry\n",
    "\n",
    "native_registry = Registry(session, database_name=\"HOL\", schema_name=schema)"
   ]
  },
  {
   "cell_type": "code",
   "execution_count": 0,
   "metadata": {
    "application/vnd.databricks.v1+cell": {
     "cellMetadata": {
      "byteLimit": 2048000,
      "rowLimit": 10000
     },
     "inputWidgets": {},
     "nuid": "68800818-3ee4-45f4-95f6-92d6f7ffba3f",
     "showTitle": false,
     "title": ""
    }
   },
   "outputs": [
    {
     "output_type": "stream",
     "name": "stderr",
     "output_type": "stream",
     "text": [
      "/local_disk0/.ephemeral_nfs/cluster_libraries/python/lib/python3.10/site-packages/snowflake/ml/model/_packager/model_packager.py:93: UserWarning: Inferring model signature from sample input or providing model signature for Snowpark ML Modeling model is not required. Model signature will automatically be inferred during fitting. \n  handler.save_model(\n"
     ]
    }
   ],
   "source": [
    "# Get sample input data to pass into the registry logging function\n",
    "X = train_df.select(FEATURE_COLUMN_NAMES).limit(100)\n",
    "\n",
    "# Define model name\n",
    "model_name = \"SHIFT_SALES_PREDICTION\"\n",
    "\n",
    "# Note update version number on subsequent runs\n",
    "\n",
    "# Let's first log the very first model we trained\n",
    "model_ver = native_registry.log_model(\n",
    "    model_name=model_name,\n",
    "    version_name='V0',\n",
    "    model=regressor,\n",
    "    sample_input_data=X, # to provide the feature schema\n",
    "    options={\n",
    "        'relax_version': 'True'\n",
    "    }\n",
    ")"
   ]
  },
  {
   "cell_type": "code",
   "execution_count": 0,
   "metadata": {
    "application/vnd.databricks.v1+cell": {
     "cellMetadata": {
      "byteLimit": 2048000,
      "rowLimit": 10000
     },
     "inputWidgets": {},
     "nuid": "c4260ee5-752b-4cd4-aeb0-4e4ea9d8825e",
     "showTitle": false,
     "title": ""
    }
   },
   "outputs": [
    {
     "output_type": "stream",
     "name": "stderr",
     "output_type": "stream",
     "text": [
      "/usr/lib/python3.10/contextlib.py:135: UserWarning: `relax_version` is not set and therefore defaulted to True. Dependency version constraints relaxed from ==x.y.z to >=x.y, <(x+1). To use specific dependency versions for compatibility, reproducibility, etc., set `options={'relax_version': False}` when logging the model.\n  return next(self.gen)\n/local_disk0/.ephemeral_nfs/cluster_libraries/python/lib/python3.10/site-packages/snowflake/ml/model/model_signature.py:69: UserWarning: The sample input has 100 rows, thus a truncation happened before inferring signature. This might cause inaccurate signature inference. If that happens, consider specifying signature manually.\n  warnings.warn(\n"
     ]
    }
   ],
   "source": [
    "# Now, let's log the optimal model from GridSearchCV\n",
    "# Note update version number on subsequent runs\n",
    "model_ver2 = native_registry.log_model(\n",
    "    model_name=model_name,\n",
    "    version_name='V1',\n",
    "    model=optimal_model,\n",
    "    sample_input_data=X, # to provide the feature schema\n",
    ")\n",
    "\n",
    "# Add evaluation metric\n",
    "model_ver2.set_metric(metric_name=\"mean_abs_pct_err\", value=optimal_mape)\n",
    "\n",
    "# Add a description\n",
    "model_ver2.comment = \"This is the second iteration of the Shift Sales Price Prediction model \\\n",
    "                        where we performed hyperparameter optimization.\""
   ]
  },
  {
   "cell_type": "code",
   "execution_count": 0,
   "metadata": {
    "application/vnd.databricks.v1+cell": {
     "cellMetadata": {
      "byteLimit": 2048000,
      "rowLimit": 10000
     },
     "inputWidgets": {},
     "nuid": "27f5478f-3d68-4c8b-9117-1d70c77c73eb",
     "showTitle": false,
     "title": ""
    }
   },
   "outputs": [
    {
     "output_type": "execute_result",
     "data": {
      "text/html": [
       "<div>\n",
       "<style scoped>\n",
       "    .dataframe tbody tr th:only-of-type {\n",
       "        vertical-align: middle;\n",
       "    }\n",
       "\n",
       "    .dataframe tbody tr th {\n",
       "        vertical-align: top;\n",
       "    }\n",
       "\n",
       "    .dataframe thead th {\n",
       "        text-align: right;\n",
       "    }\n",
       "</style>\n",
       "<table border=\"1\" class=\"dataframe\">\n",
       "  <thead>\n",
       "    <tr style=\"text-align: right;\">\n",
       "      <th></th>\n",
       "      <th>created_on</th>\n",
       "      <th>name</th>\n",
       "      <th>comment</th>\n",
       "      <th>database_name</th>\n",
       "      <th>schema_name</th>\n",
       "      <th>module_name</th>\n",
       "      <th>is_default_version</th>\n",
       "      <th>functions</th>\n",
       "      <th>metadata</th>\n",
       "      <th>user_data</th>\n",
       "    </tr>\n",
       "  </thead>\n",
       "  <tbody>\n",
       "    <tr>\n",
       "      <th>0</th>\n",
       "      <td>2024-05-23 05:45:09.957000-07:00</td>\n",
       "      <td>V0</td>\n",
       "      <td>None</td>\n",
       "      <td>HOL</td>\n",
       "      <td>SCHEMA1</td>\n",
       "      <td>SHIFT_SALES_PREDICTION</td>\n",
       "      <td>true</td>\n",
       "      <td>[\"PREDICT\"]</td>\n",
       "      <td>{}</td>\n",
       "      <td>{\"snowpark_ml_data\":{\"functions\":[{\"name\":\"PRE...</td>\n",
       "    </tr>\n",
       "    <tr>\n",
       "      <th>1</th>\n",
       "      <td>2024-05-23 05:46:07.519000-07:00</td>\n",
       "      <td>V1</td>\n",
       "      <td>This is the second iteration of the Shift Sale...</td>\n",
       "      <td>HOL</td>\n",
       "      <td>SCHEMA1</td>\n",
       "      <td>SHIFT_SALES_PREDICTION</td>\n",
       "      <td>false</td>\n",
       "      <td>[\"PREDICT\",\"APPLY\"]</td>\n",
       "      <td>{\"metrics\": {\"mean_abs_pct_err\": 0.38289268016...</td>\n",
       "      <td>{\"snowpark_ml_data\":{\"functions\":[{\"name\":\"APP...</td>\n",
       "    </tr>\n",
       "  </tbody>\n",
       "</table>\n",
       "</div>"
      ],
      "text/plain": [
       "                        created_on  ...                                          user_data\n",
       "0 2024-05-23 05:45:09.957000-07:00  ...  {\"snowpark_ml_data\":{\"functions\":[{\"name\":\"PRE...\n",
       "1 2024-05-23 05:46:07.519000-07:00  ...  {\"snowpark_ml_data\":{\"functions\":[{\"name\":\"APP...\n",
       "\n",
       "[2 rows x 10 columns]"
      ]
     },
     "execution_count": 44,
     "metadata": {},
     "output_type": "execute_result"
    }
   ],
   "source": [
    "# Let's confirm model(s) that were added\n",
    "native_registry.get_model(model_name).show_versions()"
   ]
  },
  {
   "cell_type": "code",
   "execution_count": 0,
   "metadata": {
    "application/vnd.databricks.v1+cell": {
     "cellMetadata": {
      "byteLimit": 2048000,
      "rowLimit": 10000
     },
     "inputWidgets": {},
     "nuid": "4f82b46c-a9ae-4768-8a8f-d4b2cbf80c86",
     "showTitle": false,
     "title": ""
    }
   },
   "outputs": [
    {
     "output_type": "execute_result",
     "data": {
      "text/plain": [
       "'V0'"
      ]
     },
     "execution_count": 45,
     "metadata": {},
     "output_type": "execute_result"
    }
   ],
   "source": [
    "# We can see what the default model is when we have multiple versions with the same model name:\n",
    "native_registry.get_model(model_name).default.version_name"
   ]
  },
  {
   "cell_type": "code",
   "execution_count": 0,
   "metadata": {
    "application/vnd.databricks.v1+cell": {
     "cellMetadata": {
      "byteLimit": 2048000,
      "rowLimit": 10000
     },
     "inputWidgets": {},
     "nuid": "8cf5c202-50ff-4698-a9bb-3b4baa857900",
     "showTitle": false,
     "title": ""
    }
   },
   "outputs": [
    {
     "output_type": "execute_result",
     "data": {
      "text/html": [
       "<div>\n",
       "<style scoped>\n",
       "    .dataframe tbody tr th:only-of-type {\n",
       "        vertical-align: middle;\n",
       "    }\n",
       "\n",
       "    .dataframe tbody tr th {\n",
       "        vertical-align: top;\n",
       "    }\n",
       "\n",
       "    .dataframe thead th {\n",
       "        text-align: right;\n",
       "    }\n",
       "</style>\n",
       "<table border=\"1\" class=\"dataframe\">\n",
       "  <thead>\n",
       "    <tr style=\"text-align: right;\">\n",
       "      <th></th>\n",
       "      <th>SHIFT_SALES</th>\n",
       "      <th>SHIFT_OE</th>\n",
       "      <th>CITY_POPULATION_NORM</th>\n",
       "      <th>MONTH</th>\n",
       "      <th>DAY_OF_WEEK</th>\n",
       "      <th>LATITUDE</th>\n",
       "      <th>LONGITUDE</th>\n",
       "      <th>AVG_LOCATION_SHIFT_SALES</th>\n",
       "      <th>output_feature_0</th>\n",
       "    </tr>\n",
       "  </thead>\n",
       "  <tbody>\n",
       "    <tr>\n",
       "      <th>0</th>\n",
       "      <td>970.08</td>\n",
       "      <td>1.0</td>\n",
       "      <td>1.0</td>\n",
       "      <td>5</td>\n",
       "      <td>2</td>\n",
       "      <td>28.52499</td>\n",
       "      <td>77.156639</td>\n",
       "      <td>565.733333</td>\n",
       "      <td>585.149841</td>\n",
       "    </tr>\n",
       "    <tr>\n",
       "      <th>1</th>\n",
       "      <td>1179.07</td>\n",
       "      <td>1.0</td>\n",
       "      <td>1.0</td>\n",
       "      <td>10</td>\n",
       "      <td>6</td>\n",
       "      <td>28.52499</td>\n",
       "      <td>77.156639</td>\n",
       "      <td>656.809655</td>\n",
       "      <td>807.967773</td>\n",
       "    </tr>\n",
       "    <tr>\n",
       "      <th>2</th>\n",
       "      <td>390.34</td>\n",
       "      <td>1.0</td>\n",
       "      <td>1.0</td>\n",
       "      <td>9</td>\n",
       "      <td>0</td>\n",
       "      <td>28.52499</td>\n",
       "      <td>77.156639</td>\n",
       "      <td>759.739474</td>\n",
       "      <td>890.869629</td>\n",
       "    </tr>\n",
       "    <tr>\n",
       "      <th>3</th>\n",
       "      <td>1019.83</td>\n",
       "      <td>1.0</td>\n",
       "      <td>1.0</td>\n",
       "      <td>10</td>\n",
       "      <td>6</td>\n",
       "      <td>28.52499</td>\n",
       "      <td>77.156639</td>\n",
       "      <td>785.674898</td>\n",
       "      <td>956.907959</td>\n",
       "    </tr>\n",
       "    <tr>\n",
       "      <th>4</th>\n",
       "      <td>513.61</td>\n",
       "      <td>1.0</td>\n",
       "      <td>1.0</td>\n",
       "      <td>8</td>\n",
       "      <td>5</td>\n",
       "      <td>28.52499</td>\n",
       "      <td>77.156639</td>\n",
       "      <td>876.746232</td>\n",
       "      <td>999.099670</td>\n",
       "    </tr>\n",
       "  </tbody>\n",
       "</table>\n",
       "</div>"
      ],
      "text/plain": [
       "   SHIFT_SALES  SHIFT_OE  ...  AVG_LOCATION_SHIFT_SALES  output_feature_0\n",
       "0       970.08       1.0  ...                565.733333        585.149841\n",
       "1      1179.07       1.0  ...                656.809655        807.967773\n",
       "2       390.34       1.0  ...                759.739474        890.869629\n",
       "3      1019.83       1.0  ...                785.674898        956.907959\n",
       "4       513.61       1.0  ...                876.746232        999.099670\n",
       "\n",
       "[5 rows x 9 columns]"
      ]
     },
     "execution_count": 46,
     "metadata": {},
     "output_type": "execute_result"
    }
   ],
   "source": [
    "# Now we can use the default version model to perform inference.\n",
    "model_ver = native_registry.get_model(model_name).version('V1')\n",
    "result_sdf = model_ver.run(test_df, function_name=\"predict\")\n",
    "#result_sdf.show()\n",
    "result_sdf.limit(100).to_pandas().head()"
   ]
  },
  {
   "cell_type": "markdown",
   "metadata": {
    "application/vnd.databricks.v1+cell": {
     "cellMetadata": {
      "byteLimit": 2048000,
      "rowLimit": 10000
     },
     "inputWidgets": {},
     "nuid": "35daae2a-d038-45a6-bcc5-d80b1657afab",
     "showTitle": false,
     "title": ""
    }
   },
   "source": [
    "![model_utilization.png](files/shared_uploads/joe.jordan@snowflake.com/assets/model_utilization.png)\n"
   ]
  },
  {
   "cell_type": "markdown",
   "metadata": {
    "application/vnd.databricks.v1+cell": {
     "cellMetadata": {
      "byteLimit": 2048000,
      "rowLimit": 10000
     },
     "inputWidgets": {},
     "nuid": "2557c296-5225-4232-8e14-125e68540bba",
     "showTitle": false,
     "title": ""
    }
   },
   "source": [
    "Now that our model is built and deployed, let's see it in action! We will find the best place to park in Vancouver for tomorrow morning's shift.\n",
    "\n"
   ]
  },
  {
   "cell_type": "code",
   "execution_count": 0,
   "metadata": {
    "application/vnd.databricks.v1+cell": {
     "cellMetadata": {
      "byteLimit": 2048000,
      "rowLimit": 10000
     },
     "inputWidgets": {},
     "nuid": "3209770c-bed3-41b9-b5af-d065b8face17",
     "showTitle": false,
     "title": ""
    }
   },
   "outputs": [
    {
     "output_type": "execute_result",
     "data": {
      "text/html": [
       "<div>\n",
       "<style scoped>\n",
       "    .dataframe tbody tr th:only-of-type {\n",
       "        vertical-align: middle;\n",
       "    }\n",
       "\n",
       "    .dataframe tbody tr th {\n",
       "        vertical-align: top;\n",
       "    }\n",
       "\n",
       "    .dataframe thead th {\n",
       "        text-align: right;\n",
       "    }\n",
       "</style>\n",
       "<table border=\"1\" class=\"dataframe\">\n",
       "  <thead>\n",
       "    <tr style=\"text-align: right;\">\n",
       "      <th></th>\n",
       "      <th>SHIFT_OE</th>\n",
       "      <th>CITY_POPULATION_NORM</th>\n",
       "      <th>LOCATION_ID</th>\n",
       "      <th>CITY</th>\n",
       "      <th>DATE</th>\n",
       "      <th>SHIFT_SALES</th>\n",
       "      <th>SHIFT</th>\n",
       "      <th>MONTH</th>\n",
       "      <th>DAY_OF_WEEK</th>\n",
       "      <th>CITY_POPULATION</th>\n",
       "      <th>LATITUDE</th>\n",
       "      <th>LONGITUDE</th>\n",
       "      <th>AVG_LOCATION_SHIFT_SALES</th>\n",
       "    </tr>\n",
       "  </thead>\n",
       "  <tbody>\n",
       "    <tr>\n",
       "      <th>0</th>\n",
       "      <td>1.0</td>\n",
       "      <td>0.034264</td>\n",
       "      <td>1108</td>\n",
       "      <td>Vancouver</td>\n",
       "      <td>2023-05-01</td>\n",
       "      <td>NaN</td>\n",
       "      <td>PM</td>\n",
       "      <td>5</td>\n",
       "      <td>1</td>\n",
       "      <td>662248</td>\n",
       "      <td>49.258484</td>\n",
       "      <td>-123.036906</td>\n",
       "      <td>287.940189</td>\n",
       "    </tr>\n",
       "    <tr>\n",
       "      <th>1</th>\n",
       "      <td>1.0</td>\n",
       "      <td>0.034264</td>\n",
       "      <td>1108</td>\n",
       "      <td>Vancouver</td>\n",
       "      <td>2023-05-02</td>\n",
       "      <td>NaN</td>\n",
       "      <td>PM</td>\n",
       "      <td>5</td>\n",
       "      <td>2</td>\n",
       "      <td>662248</td>\n",
       "      <td>49.258484</td>\n",
       "      <td>-123.036906</td>\n",
       "      <td>287.940189</td>\n",
       "    </tr>\n",
       "    <tr>\n",
       "      <th>2</th>\n",
       "      <td>1.0</td>\n",
       "      <td>0.034264</td>\n",
       "      <td>1108</td>\n",
       "      <td>Vancouver</td>\n",
       "      <td>2023-05-03</td>\n",
       "      <td>NaN</td>\n",
       "      <td>PM</td>\n",
       "      <td>5</td>\n",
       "      <td>3</td>\n",
       "      <td>662248</td>\n",
       "      <td>49.258484</td>\n",
       "      <td>-123.036906</td>\n",
       "      <td>287.940189</td>\n",
       "    </tr>\n",
       "    <tr>\n",
       "      <th>3</th>\n",
       "      <td>1.0</td>\n",
       "      <td>0.034264</td>\n",
       "      <td>1108</td>\n",
       "      <td>Vancouver</td>\n",
       "      <td>2023-05-04</td>\n",
       "      <td>NaN</td>\n",
       "      <td>PM</td>\n",
       "      <td>5</td>\n",
       "      <td>4</td>\n",
       "      <td>662248</td>\n",
       "      <td>49.258484</td>\n",
       "      <td>-123.036906</td>\n",
       "      <td>287.940189</td>\n",
       "    </tr>\n",
       "    <tr>\n",
       "      <th>4</th>\n",
       "      <td>1.0</td>\n",
       "      <td>0.034264</td>\n",
       "      <td>1108</td>\n",
       "      <td>Vancouver</td>\n",
       "      <td>2023-05-05</td>\n",
       "      <td>NaN</td>\n",
       "      <td>PM</td>\n",
       "      <td>5</td>\n",
       "      <td>5</td>\n",
       "      <td>662248</td>\n",
       "      <td>49.258484</td>\n",
       "      <td>-123.036906</td>\n",
       "      <td>287.940189</td>\n",
       "    </tr>\n",
       "  </tbody>\n",
       "</table>\n",
       "</div>"
      ],
      "text/plain": [
       "   SHIFT_OE  CITY_POPULATION_NORM  ...   LONGITUDE AVG_LOCATION_SHIFT_SALES\n",
       "0       1.0              0.034264  ... -123.036906               287.940189\n",
       "1       1.0              0.034264  ... -123.036906               287.940189\n",
       "2       1.0              0.034264  ... -123.036906               287.940189\n",
       "3       1.0              0.034264  ... -123.036906               287.940189\n",
       "4       1.0              0.034264  ... -123.036906               287.940189\n",
       "\n",
       "[5 rows x 13 columns]"
      ]
     },
     "execution_count": 47,
     "metadata": {},
     "output_type": "execute_result"
    }
   ],
   "source": [
    "date_tomorrow_df = oe_df.filter(\n",
    "    (F.col(\"shift_sales\").isNull())\n",
    "    & (F.col(\"shift_oe\") == 1)\n",
    "    & (F.col(\"city\") == \"Vancouver\")\n",
    ")\n",
    "#date_tomorrow_df.show()\n",
    "date_tomorrow_df.limit(100).to_pandas().head()"
   ]
  },
  {
   "cell_type": "code",
   "execution_count": 0,
   "metadata": {
    "application/vnd.databricks.v1+cell": {
     "cellMetadata": {
      "byteLimit": 2048000,
      "rowLimit": 10000
     },
     "inputWidgets": {},
     "nuid": "a3f25ebb-a6a2-4e2e-8a74-dcc922698b63",
     "showTitle": false,
     "title": ""
    }
   },
   "outputs": [
    {
     "output_type": "execute_result",
     "data": {
      "text/html": [
       "<div>\n",
       "<style scoped>\n",
       "    .dataframe tbody tr th:only-of-type {\n",
       "        vertical-align: middle;\n",
       "    }\n",
       "\n",
       "    .dataframe tbody tr th {\n",
       "        vertical-align: top;\n",
       "    }\n",
       "\n",
       "    .dataframe thead th {\n",
       "        text-align: right;\n",
       "    }\n",
       "</style>\n",
       "<table border=\"1\" class=\"dataframe\">\n",
       "  <thead>\n",
       "    <tr style=\"text-align: right;\">\n",
       "      <th></th>\n",
       "      <th>SHIFT_OE</th>\n",
       "      <th>CITY_POPULATION_NORM</th>\n",
       "      <th>LOCATION_ID</th>\n",
       "      <th>CITY</th>\n",
       "      <th>DATE</th>\n",
       "      <th>SHIFT_SALES</th>\n",
       "      <th>SHIFT</th>\n",
       "      <th>MONTH</th>\n",
       "      <th>DAY_OF_WEEK</th>\n",
       "      <th>CITY_POPULATION</th>\n",
       "      <th>LATITUDE</th>\n",
       "      <th>LONGITUDE</th>\n",
       "      <th>AVG_LOCATION_SHIFT_SALES</th>\n",
       "      <th>PRED_SHIFT_SALES</th>\n",
       "    </tr>\n",
       "  </thead>\n",
       "  <tbody>\n",
       "    <tr>\n",
       "      <th>0</th>\n",
       "      <td>1.0</td>\n",
       "      <td>0.034264</td>\n",
       "      <td>1108</td>\n",
       "      <td>Vancouver</td>\n",
       "      <td>2023-05-01</td>\n",
       "      <td>NaN</td>\n",
       "      <td>PM</td>\n",
       "      <td>5</td>\n",
       "      <td>1</td>\n",
       "      <td>662248</td>\n",
       "      <td>49.258484</td>\n",
       "      <td>-123.036906</td>\n",
       "      <td>287.940189</td>\n",
       "      <td>260.698486</td>\n",
       "    </tr>\n",
       "    <tr>\n",
       "      <th>1</th>\n",
       "      <td>1.0</td>\n",
       "      <td>0.034264</td>\n",
       "      <td>1108</td>\n",
       "      <td>Vancouver</td>\n",
       "      <td>2023-05-02</td>\n",
       "      <td>NaN</td>\n",
       "      <td>PM</td>\n",
       "      <td>5</td>\n",
       "      <td>2</td>\n",
       "      <td>662248</td>\n",
       "      <td>49.258484</td>\n",
       "      <td>-123.036906</td>\n",
       "      <td>287.940189</td>\n",
       "      <td>298.233215</td>\n",
       "    </tr>\n",
       "    <tr>\n",
       "      <th>2</th>\n",
       "      <td>1.0</td>\n",
       "      <td>0.034264</td>\n",
       "      <td>1108</td>\n",
       "      <td>Vancouver</td>\n",
       "      <td>2023-05-03</td>\n",
       "      <td>NaN</td>\n",
       "      <td>PM</td>\n",
       "      <td>5</td>\n",
       "      <td>3</td>\n",
       "      <td>662248</td>\n",
       "      <td>49.258484</td>\n",
       "      <td>-123.036906</td>\n",
       "      <td>287.940189</td>\n",
       "      <td>298.348663</td>\n",
       "    </tr>\n",
       "    <tr>\n",
       "      <th>3</th>\n",
       "      <td>1.0</td>\n",
       "      <td>0.034264</td>\n",
       "      <td>1108</td>\n",
       "      <td>Vancouver</td>\n",
       "      <td>2023-05-04</td>\n",
       "      <td>NaN</td>\n",
       "      <td>PM</td>\n",
       "      <td>5</td>\n",
       "      <td>4</td>\n",
       "      <td>662248</td>\n",
       "      <td>49.258484</td>\n",
       "      <td>-123.036906</td>\n",
       "      <td>287.940189</td>\n",
       "      <td>302.734528</td>\n",
       "    </tr>\n",
       "    <tr>\n",
       "      <th>4</th>\n",
       "      <td>1.0</td>\n",
       "      <td>0.034264</td>\n",
       "      <td>1108</td>\n",
       "      <td>Vancouver</td>\n",
       "      <td>2023-05-05</td>\n",
       "      <td>NaN</td>\n",
       "      <td>PM</td>\n",
       "      <td>5</td>\n",
       "      <td>5</td>\n",
       "      <td>662248</td>\n",
       "      <td>49.258484</td>\n",
       "      <td>-123.036906</td>\n",
       "      <td>287.940189</td>\n",
       "      <td>311.115112</td>\n",
       "    </tr>\n",
       "  </tbody>\n",
       "</table>\n",
       "</div>"
      ],
      "text/plain": [
       "   SHIFT_OE  CITY_POPULATION_NORM  ...  AVG_LOCATION_SHIFT_SALES PRED_SHIFT_SALES\n",
       "0       1.0              0.034264  ...                287.940189       260.698486\n",
       "1       1.0              0.034264  ...                287.940189       298.233215\n",
       "2       1.0              0.034264  ...                287.940189       298.348663\n",
       "3       1.0              0.034264  ...                287.940189       302.734528\n",
       "4       1.0              0.034264  ...                287.940189       311.115112\n",
       "\n",
       "[5 rows x 14 columns]"
      ]
     },
     "execution_count": 48,
     "metadata": {},
     "output_type": "execute_result"
    }
   ],
   "source": [
    "result_sdf = regressor.predict(date_tomorrow_df)\n",
    "#result_sdf.show()\n",
    "result_sdf.limit(100).to_pandas().head()"
   ]
  },
  {
   "cell_type": "code",
   "execution_count": 0,
   "metadata": {
    "application/vnd.databricks.v1+cell": {
     "cellMetadata": {
      "byteLimit": 2048000,
      "rowLimit": 10000
     },
     "inputWidgets": {},
     "nuid": "05897b54-a7b8-45b9-b5ff-49e01e5758d9",
     "showTitle": false,
     "title": ""
    }
   },
   "outputs": [],
   "source": [
    "# Write tomorrow's data into a Snowflake table\n",
    "date_tomorrow_df.write.save_as_table(\"SNOWPARK_TEST_TABLE\", mode=\"overwrite\")"
   ]
  },
  {
   "cell_type": "markdown",
   "metadata": {
    "application/vnd.databricks.v1+cell": {
     "cellMetadata": {
      "byteLimit": 2048000,
      "rowLimit": 10000
     },
     "inputWidgets": {},
     "nuid": "18e0730b-373a-4825-8235-e188a28197a1",
     "showTitle": false,
     "title": ""
    }
   },
   "source": [
    "##Doing inference using SQL"
   ]
  },
  {
   "cell_type": "code",
   "execution_count": 0,
   "metadata": {
    "application/vnd.databricks.v1+cell": {
     "cellMetadata": {
      "byteLimit": 2048000,
      "rowLimit": 10000
     },
     "inputWidgets": {},
     "nuid": "0aed492d-4267-4cef-8a56-5054ad67ca19",
     "showTitle": false,
     "title": ""
    }
   },
   "outputs": [
    {
     "output_type": "execute_result",
     "data": {
      "text/html": [
       "<div>\n",
       "<style scoped>\n",
       "    .dataframe tbody tr th:only-of-type {\n",
       "        vertical-align: middle;\n",
       "    }\n",
       "\n",
       "    .dataframe tbody tr th {\n",
       "        vertical-align: top;\n",
       "    }\n",
       "\n",
       "    .dataframe thead th {\n",
       "        text-align: right;\n",
       "    }\n",
       "</style>\n",
       "<table border=\"1\" class=\"dataframe\">\n",
       "  <thead>\n",
       "    <tr style=\"text-align: right;\">\n",
       "      <th></th>\n",
       "      <th>SHIFT_OE</th>\n",
       "      <th>CITY_POPULATION_NORM</th>\n",
       "      <th>LOCATION_ID</th>\n",
       "      <th>CITY</th>\n",
       "      <th>DATE</th>\n",
       "      <th>SHIFT_SALES</th>\n",
       "      <th>SHIFT</th>\n",
       "      <th>MONTH</th>\n",
       "      <th>DAY_OF_WEEK</th>\n",
       "      <th>CITY_POPULATION</th>\n",
       "      <th>LATITUDE</th>\n",
       "      <th>LONGITUDE</th>\n",
       "      <th>AVG_LOCATION_SHIFT_SALES</th>\n",
       "      <th>PREDICTION</th>\n",
       "    </tr>\n",
       "  </thead>\n",
       "  <tbody>\n",
       "    <tr>\n",
       "      <th>0</th>\n",
       "      <td>1.0</td>\n",
       "      <td>0.034264</td>\n",
       "      <td>2702</td>\n",
       "      <td>Vancouver</td>\n",
       "      <td>2023-05-01</td>\n",
       "      <td>NaN</td>\n",
       "      <td>PM</td>\n",
       "      <td>5</td>\n",
       "      <td>1</td>\n",
       "      <td>662248</td>\n",
       "      <td>49.269028</td>\n",
       "      <td>-123.138938</td>\n",
       "      <td>228.789459</td>\n",
       "      <td>2.099694671630859e+02</td>\n",
       "    </tr>\n",
       "    <tr>\n",
       "      <th>1</th>\n",
       "      <td>1.0</td>\n",
       "      <td>0.034264</td>\n",
       "      <td>2702</td>\n",
       "      <td>Vancouver</td>\n",
       "      <td>2023-05-02</td>\n",
       "      <td>NaN</td>\n",
       "      <td>PM</td>\n",
       "      <td>5</td>\n",
       "      <td>2</td>\n",
       "      <td>662248</td>\n",
       "      <td>49.269028</td>\n",
       "      <td>-123.138938</td>\n",
       "      <td>228.789459</td>\n",
       "      <td>2.349525299072266e+02</td>\n",
       "    </tr>\n",
       "    <tr>\n",
       "      <th>2</th>\n",
       "      <td>1.0</td>\n",
       "      <td>0.034264</td>\n",
       "      <td>2702</td>\n",
       "      <td>Vancouver</td>\n",
       "      <td>2023-05-03</td>\n",
       "      <td>NaN</td>\n",
       "      <td>PM</td>\n",
       "      <td>5</td>\n",
       "      <td>3</td>\n",
       "      <td>662248</td>\n",
       "      <td>49.269028</td>\n",
       "      <td>-123.138938</td>\n",
       "      <td>228.789459</td>\n",
       "      <td>2.350680084228516e+02</td>\n",
       "    </tr>\n",
       "    <tr>\n",
       "      <th>3</th>\n",
       "      <td>1.0</td>\n",
       "      <td>0.034264</td>\n",
       "      <td>2702</td>\n",
       "      <td>Vancouver</td>\n",
       "      <td>2023-05-04</td>\n",
       "      <td>NaN</td>\n",
       "      <td>PM</td>\n",
       "      <td>5</td>\n",
       "      <td>4</td>\n",
       "      <td>662248</td>\n",
       "      <td>49.269028</td>\n",
       "      <td>-123.138938</td>\n",
       "      <td>228.789459</td>\n",
       "      <td>2.370755920410156e+02</td>\n",
       "    </tr>\n",
       "    <tr>\n",
       "      <th>4</th>\n",
       "      <td>1.0</td>\n",
       "      <td>0.034264</td>\n",
       "      <td>2702</td>\n",
       "      <td>Vancouver</td>\n",
       "      <td>2023-05-05</td>\n",
       "      <td>NaN</td>\n",
       "      <td>PM</td>\n",
       "      <td>5</td>\n",
       "      <td>5</td>\n",
       "      <td>662248</td>\n",
       "      <td>49.269028</td>\n",
       "      <td>-123.138938</td>\n",
       "      <td>228.789459</td>\n",
       "      <td>2.454561462402344e+02</td>\n",
       "    </tr>\n",
       "  </tbody>\n",
       "</table>\n",
       "</div>"
      ],
      "text/plain": [
       "   SHIFT_OE  ...             PREDICTION\n",
       "0       1.0  ...  2.099694671630859e+02\n",
       "1       1.0  ...  2.349525299072266e+02\n",
       "2       1.0  ...  2.350680084228516e+02\n",
       "3       1.0  ...  2.370755920410156e+02\n",
       "4       1.0  ...  2.454561462402344e+02\n",
       "\n",
       "[5 rows x 14 columns]"
      ]
     },
     "execution_count": 50,
     "metadata": {},
     "output_type": "execute_result"
    }
   ],
   "source": [
    "# 1) Here's how you do inference on the test data with the default model version:\n",
    "df = session.sql(f\"SELECT a.*, SHIFT_SALES_PREDICTION!predict(a.SHIFT_OE, a.CITY_POPULATION_NORM, a.MONTH, a.DAY_OF_WEEK, a.LATITUDE, a.LONGITUDE, a.AVG_LOCATION_SHIFT_SALES )['PRED_SHIFT_SALES'] as prediction from SNOWPARK_TEST_TABLE a\")\n",
    "df.limit(100).to_pandas().head()"
   ]
  },
  {
   "cell_type": "code",
   "execution_count": 0,
   "metadata": {
    "application/vnd.databricks.v1+cell": {
     "cellMetadata": {
      "byteLimit": 2048000,
      "rowLimit": 10000
     },
     "inputWidgets": {},
     "nuid": "91567c13-15b8-46be-984c-241eeed04e08",
     "showTitle": false,
     "title": ""
    }
   },
   "outputs": [
    {
     "output_type": "execute_result",
     "data": {
      "text/html": [
       "<div>\n",
       "<style scoped>\n",
       "    .dataframe tbody tr th:only-of-type {\n",
       "        vertical-align: middle;\n",
       "    }\n",
       "\n",
       "    .dataframe tbody tr th {\n",
       "        vertical-align: top;\n",
       "    }\n",
       "\n",
       "    .dataframe thead th {\n",
       "        text-align: right;\n",
       "    }\n",
       "</style>\n",
       "<table border=\"1\" class=\"dataframe\">\n",
       "  <thead>\n",
       "    <tr style=\"text-align: right;\">\n",
       "      <th></th>\n",
       "      <th>SHIFT_OE</th>\n",
       "      <th>CITY_POPULATION_NORM</th>\n",
       "      <th>LOCATION_ID</th>\n",
       "      <th>CITY</th>\n",
       "      <th>DATE</th>\n",
       "      <th>SHIFT_SALES</th>\n",
       "      <th>SHIFT</th>\n",
       "      <th>MONTH</th>\n",
       "      <th>DAY_OF_WEEK</th>\n",
       "      <th>CITY_POPULATION</th>\n",
       "      <th>LATITUDE</th>\n",
       "      <th>LONGITUDE</th>\n",
       "      <th>AVG_LOCATION_SHIFT_SALES</th>\n",
       "      <th>PREDICTION</th>\n",
       "    </tr>\n",
       "  </thead>\n",
       "  <tbody>\n",
       "    <tr>\n",
       "      <th>0</th>\n",
       "      <td>1.0</td>\n",
       "      <td>0.034264</td>\n",
       "      <td>2702</td>\n",
       "      <td>Vancouver</td>\n",
       "      <td>2023-05-01</td>\n",
       "      <td>NaN</td>\n",
       "      <td>PM</td>\n",
       "      <td>5</td>\n",
       "      <td>1</td>\n",
       "      <td>662248</td>\n",
       "      <td>49.269028</td>\n",
       "      <td>-123.138938</td>\n",
       "      <td>228.789459</td>\n",
       "      <td>2.230640563964844e+02</td>\n",
       "    </tr>\n",
       "    <tr>\n",
       "      <th>1</th>\n",
       "      <td>1.0</td>\n",
       "      <td>0.034264</td>\n",
       "      <td>2702</td>\n",
       "      <td>Vancouver</td>\n",
       "      <td>2023-05-02</td>\n",
       "      <td>NaN</td>\n",
       "      <td>PM</td>\n",
       "      <td>5</td>\n",
       "      <td>2</td>\n",
       "      <td>662248</td>\n",
       "      <td>49.269028</td>\n",
       "      <td>-123.138938</td>\n",
       "      <td>228.789459</td>\n",
       "      <td>2.367992553710938e+02</td>\n",
       "    </tr>\n",
       "    <tr>\n",
       "      <th>2</th>\n",
       "      <td>1.0</td>\n",
       "      <td>0.034264</td>\n",
       "      <td>2702</td>\n",
       "      <td>Vancouver</td>\n",
       "      <td>2023-05-03</td>\n",
       "      <td>NaN</td>\n",
       "      <td>PM</td>\n",
       "      <td>5</td>\n",
       "      <td>3</td>\n",
       "      <td>662248</td>\n",
       "      <td>49.269028</td>\n",
       "      <td>-123.138938</td>\n",
       "      <td>228.789459</td>\n",
       "      <td>2.372405395507812e+02</td>\n",
       "    </tr>\n",
       "    <tr>\n",
       "      <th>3</th>\n",
       "      <td>1.0</td>\n",
       "      <td>0.034264</td>\n",
       "      <td>2702</td>\n",
       "      <td>Vancouver</td>\n",
       "      <td>2023-05-04</td>\n",
       "      <td>NaN</td>\n",
       "      <td>PM</td>\n",
       "      <td>5</td>\n",
       "      <td>4</td>\n",
       "      <td>662248</td>\n",
       "      <td>49.269028</td>\n",
       "      <td>-123.138938</td>\n",
       "      <td>228.789459</td>\n",
       "      <td>2.372405395507812e+02</td>\n",
       "    </tr>\n",
       "    <tr>\n",
       "      <th>4</th>\n",
       "      <td>1.0</td>\n",
       "      <td>0.034264</td>\n",
       "      <td>2702</td>\n",
       "      <td>Vancouver</td>\n",
       "      <td>2023-05-05</td>\n",
       "      <td>NaN</td>\n",
       "      <td>PM</td>\n",
       "      <td>5</td>\n",
       "      <td>5</td>\n",
       "      <td>662248</td>\n",
       "      <td>49.269028</td>\n",
       "      <td>-123.138938</td>\n",
       "      <td>228.789459</td>\n",
       "      <td>2.468857574462891e+02</td>\n",
       "    </tr>\n",
       "  </tbody>\n",
       "</table>\n",
       "</div>"
      ],
      "text/plain": [
       "   SHIFT_OE  ...             PREDICTION\n",
       "0       1.0  ...  2.230640563964844e+02\n",
       "1       1.0  ...  2.367992553710938e+02\n",
       "2       1.0  ...  2.372405395507812e+02\n",
       "3       1.0  ...  2.372405395507812e+02\n",
       "4       1.0  ...  2.468857574462891e+02\n",
       "\n",
       "[5 rows x 14 columns]"
      ]
     },
     "execution_count": 51,
     "metadata": {},
     "output_type": "execute_result"
    }
   ],
   "source": [
    "# 2) Here's how you do inference on the test data using any other model version (for example V1 below):\n",
    "sqldf = session.sql(f\"WITH model_version_alias AS MODEL {model_name} VERSION V1 SELECT a.*, model_version_alias!predict(a.SHIFT_OE, a.CITY_POPULATION_NORM, a.MONTH, a.DAY_OF_WEEK, a.LATITUDE, a.LONGITUDE, a.AVG_LOCATION_SHIFT_SALES)['output_feature_0'] as prediction from SNOWPARK_TEST_TABLE a\")\n",
    "sqldf.limit(100).to_pandas().head()"
   ]
  },
  {
   "cell_type": "markdown",
   "metadata": {
    "application/vnd.databricks.v1+cell": {
     "cellMetadata": {
      "byteLimit": 2048000,
      "rowLimit": 10000
     },
     "inputWidgets": {},
     "nuid": "13d16981-d0e1-43d9-97df-a3ed3ea3a311",
     "showTitle": false,
     "title": ""
    }
   },
   "source": [
    "## Visualize on a Map\n",
    "\n",
    "The red and yellow areas indicate higher predicted sales locations and the green zones indicate lower predicted sales. We will use this insight to ensure that our drivers are parking at the high-value locations. Value: Updated predictions readily available to drive towards our corporate goals.\n",
    "\n"
   ]
  },
  {
   "cell_type": "markdown",
   "metadata": {
    "application/vnd.databricks.v1+cell": {
     "cellMetadata": {
      "byteLimit": 2048000,
      "rowLimit": 10000
     },
     "inputWidgets": {},
     "nuid": "0daa6303-ef1f-4ff7-b938-c526f208ac60",
     "showTitle": false,
     "title": ""
    }
   },
   "source": [
    "# Part 5 - Create a SiS application to use predicted outputs\n",
    "\n",
    "![Part5.png](files/shared_uploads/joe.jordan@snowflake.com/assets/Part5.png)\n",
    "\n",
    "\n",
    "Create a SiS application for local managers to identify where to place daily food trucks. \n",
    "\n"
   ]
  },
  {
   "cell_type": "markdown",
   "metadata": {
    "application/vnd.databricks.v1+cell": {
     "cellMetadata": {
      "byteLimit": 2048000,
      "rowLimit": 10000
     },
     "inputWidgets": {},
     "nuid": "faba3c44-bf0a-450a-bd4a-25f0028eda15",
     "showTitle": false,
     "title": ""
    }
   },
   "source": [
    "### Create new SiS app. \n",
    "\n",
    "### Replace existing code with the code in SiS_application.py.\n",
    "\n",
    "### Update the schema with find/replace on schema0 to your schema\n",
    "\n",
    "### In the SIS code window click on the Packages drop-down and add in pydeck and snowpark-ml-python\n",
    "\n",
    "### Run the SiS application.\n",
    "\n",
    "![SiSapp.png](files/shared_uploads/joe.jordan@snowflake.com/assets/SiSapp.png)\n"
   ]
  }
 ],
 "metadata": {
  "application/vnd.databricks.v1+notebook": {
   "dashboards": [],
   "environmentMetadata": null,
   "language": "python",
   "notebookMetadata": {
    "pythonIndentUnit": 4
   },
   "notebookName": "End_to_End_Data_Science_using_Snowpark_Easy_Path_DBx.py",
   "widgets": {}
  }
 },
 "nbformat": 4,
 "nbformat_minor": 0
}
